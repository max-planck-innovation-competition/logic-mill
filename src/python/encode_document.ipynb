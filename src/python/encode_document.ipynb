{
 "cells": [
  {
   "cell_type": "markdown",
   "id": "3d62fbec",
   "metadata": {},
   "source": [
    "# Encode Document API\n",
    "This API converts a single document (with title and abstract) into a vector embedding using a selected model (e.g., patspecter). The embedding can be used for downstream tasks such as similarity search or clustering."
   ]
  },
  {
   "cell_type": "code",
   "execution_count": 1,
   "id": "a41612e4",
   "metadata": {},
   "outputs": [],
   "source": [
    "import requests\n",
    "from dotenv import dotenv_values\n",
    "import requests\n",
    "\n",
    "# Load environment variables from .env file\n",
    "conf = dotenv_values()\n",
    "API_KEY = conf[\"API_KEY\"]\n",
    "\n",
    "# Choose model to encode the document: patspecter or paecter\n",
    "model = \"patspecter\""
   ]
  },
  {
   "cell_type": "code",
   "execution_count": 2,
   "id": "cabf0c1d",
   "metadata": {},
   "outputs": [],
   "source": [
    "# API Settings\n",
    "URL = 'https://api.logic-mill.net/api/v1/graphql/'\n",
    "headers = {\n",
    "    'content-type': 'application/json',\n",
    "    'Authorization': 'Bearer ' + API_KEY,\n",
    "}\n",
    "\n",
    "# Build GraphQL query\n",
    "query = \"\"\"\n",
    "query encodeDocument($data: EncodeObject, $model: String!) {\n",
    "  encodeDocument(data: $data, model: $model)\n",
    "}\n",
    "\"\"\"\n",
    "\n",
    "# Build variables\n",
    "variables = {\n",
    "  \"model\": \"patspecter\",\n",
    "  \"data\": {\n",
    "    \"id\": \"Air bags\",\n",
    "    \"parts\": [\n",
    "      {\n",
    "        \"key\": \"title\",\n",
    "        \"value\": \"Airbags\"\n",
    "      },\n",
    "      {\n",
    "        \"key\": \"abstract\",\n",
    "        \"value\": \"Airbags are one of the most important safety gears in motor vehicles such as cars and SUVs. These are cushions built into a vehicle that are intended to inflate in case of a car accident in order to protect occupants from injuries by preventing them from striking the interior of vehicle during a crash.\"\n",
    "      }\n",
    "    ]\n",
    "  }\n",
    "}"
   ]
  },
  {
   "cell_type": "code",
   "execution_count": 3,
   "id": "e303e2ce",
   "metadata": {},
   "outputs": [],
   "source": [
    "# Send a POST request to the API\n",
    "response = requests.post(URL, headers=headers, json={'query': query , 'variables': variables})"
   ]
  },
  {
   "cell_type": "code",
   "execution_count": 4,
   "id": "54f8889b",
   "metadata": {},
   "outputs": [
    {
     "name": "stdout",
     "output_type": "stream",
     "text": [
      "Encoded Document:  [-0.22171499, 0.2530666, 0.023413504, 0.7219604, 0.008096034, -0.6433678, 0.87286353, 0.24399385, 0.014191966, 0.7068674]\n"
     ]
    }
   ],
   "source": [
    "# Handle response\n",
    "if not response.ok:\n",
    "    raise Exception(f\"Error: {response.status_code} - {response.text}\")\n",
    "\n",
    "json_response = response.json()\n",
    "encoded_document = json_response['data']['encodeDocument']\n",
    "print(\"Encoded Document: \", encoded_document[:10])"
   ]
  }
 ],
 "metadata": {
  "kernelspec": {
   "display_name": "logic-mill",
   "language": "python",
   "name": "python3"
  },
  "language_info": {
   "codemirror_mode": {
    "name": "ipython",
    "version": 3
   },
   "file_extension": ".py",
   "mimetype": "text/x-python",
   "name": "python",
   "nbconvert_exporter": "python",
   "pygments_lexer": "ipython3",
   "version": "3.12.5"
  }
 },
 "nbformat": 4,
 "nbformat_minor": 5
}
