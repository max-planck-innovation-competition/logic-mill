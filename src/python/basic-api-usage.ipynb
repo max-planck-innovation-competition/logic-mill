{
 "cells": [
  {
   "cell_type": "markdown",
   "metadata": {},
   "source": [
    "# Basic Logic Mill API usage"
   ]
  },
  {
   "cell_type": "code",
   "execution_count": 1,
   "metadata": {},
   "outputs": [],
   "source": [
    "import requests\n",
    "import json\n",
    "import pandas as pd\n",
    "API_KEY = '<YOUR API KEY>'\n",
    "# API documentation: https://api.logic-mill.net/api/v1/graph"
   ]
  },
  {
   "cell_type": "markdown",
   "metadata": {},
   "source": [
    "# Get Information about Logic Mill API\n",
    "\n",
    "## Version"
   ]
  },
  {
   "cell_type": "code",
   "execution_count": 2,
   "metadata": {},
   "outputs": [
    {
     "name": "stdout",
     "output_type": "stream",
     "text": [
      "200\n",
      "{\n",
      "    \"data\": {\n",
      "        \"Version\": \"0.1\"\n",
      "    }\n",
      "}\n"
     ]
    }
   ],
   "source": [
    "query = \"\"\"{\n",
    "  Version\n",
    "}\"\"\"\n",
    "\n",
    "url = 'https://api.logic-mill.net/api/v1/graphql/'\n",
    "r = requests.post(url, json={'query': query})\n",
    "\n",
    "print(r.status_code) # should be 200 else an error has occured, eg. server not available\n",
    "print(r.text) # result in text format"
   ]
  },
  {
   "cell_type": "code",
   "execution_count": 3,
   "metadata": {},
   "outputs": [],
   "source": [
    "# make sure the API endpoint is of a specific version\n",
    "assert r.json()[\"data\"][\"Version\"] == '0.1'"
   ]
  },
  {
   "cell_type": "markdown",
   "metadata": {},
   "source": [
    "## Get the names of document sets (indices)\n",
    "https://api.logic-mill.net/api/v1/graph/?query=%7B%0A%20%20IndicesNames%20%7B%0A%20%20%20%20amountOfDocuments%0A%20%20%20%20name%0A%20%20%7D%0A%7D"
   ]
  },
  {
   "cell_type": "code",
   "execution_count": 4,
   "metadata": {},
   "outputs": [
    {
     "name": "stdout",
     "output_type": "stream",
     "text": [
      "{\n",
      "    \"data\": {\n",
      "        \"IndicesNames\": [\n",
      "            {\n",
      "                \"amountOfDocuments\": 3831564,\n",
      "                \"name\": \"wipo_cos\"\n",
      "            },\n",
      "            {\n",
      "                \"amountOfDocuments\": 205011643,\n",
      "                \"name\": \"semanticscholar_cos\"\n",
      "            },\n",
      "            {\n",
      "                \"amountOfDocuments\": 7380143,\n",
      "                \"name\": \"epo_cos\"\n",
      "            },\n",
      "            {\n",
      "                \"amountOfDocuments\": 13352873,\n",
      "                \"name\": \"uspto_cos\"\n",
      "            }\n",
      "        ]\n",
      "    }\n",
      "}\n"
     ]
    }
   ],
   "source": [
    "query = \"\"\"{\n",
    "  IndicesNames {\n",
    "    amountOfDocuments\n",
    "    name\n",
    "  }\n",
    "}\"\"\"\n",
    "\n",
    "url = 'https://api.logic-mill.net/api/v1/graphql/'\n",
    "r = requests.post(url, json={'query': query})\n",
    "\n",
    "print(r.text)\n"
   ]
  },
  {
   "cell_type": "code",
   "execution_count": 5,
   "metadata": {},
   "outputs": [
    {
     "data": {
      "text/plain": [
       "['wipo_cos', 'semanticscholar_cos', 'epo_cos', 'uspto_cos']"
      ]
     },
     "execution_count": 5,
     "metadata": {},
     "output_type": "execute_result"
    }
   ],
   "source": [
    "# convert the names of the endpoints to a list (we'll use them later)\n",
    "indices = pd.DataFrame(r.json()['data']['IndicesNames'])[\"name\"].to_list()\n",
    "indices"
   ]
  },
  {
   "cell_type": "markdown",
   "metadata": {},
   "source": [
    "## Keyword search"
   ]
  },
  {
   "cell_type": "code",
   "execution_count": 6,
   "metadata": {},
   "outputs": [],
   "source": [
    "## TODO"
   ]
  },
  {
   "cell_type": "markdown",
   "metadata": {},
   "source": [
    "## Getting basic information from a document by using the document ID\n",
    "\n",
    "By changing the GraphQL query you can limit or extend which fields the server will retrieve for you.\n",
    "The full list can be found online: https://api.logic-mill.net/api/v1/graph"
   ]
  },
  {
   "cell_type": "code",
   "execution_count": 7,
   "metadata": {},
   "outputs": [
    {
     "name": "stdout",
     "output_type": "stream",
     "text": [
      "{\n",
      "    \"data\": {\n",
      "        \"Document\": {\n",
      "            \"documentParts\": {\n",
      "                \"title\": \"Airbag system for occupants of a vehicle and vehicle provided with such an air bag system.\"\n",
      "            },\n",
      "            \"id\": \"123fa2d18fab2ae1752451405f0eac5e273f2695\",\n",
      "            \"metadata\": {\n",
      "                \"country\": \"\",\n",
      "                \"datePubl\": null,\n",
      "                \"docNumber\": \"\",\n",
      "                \"doi\": \"\",\n",
      "                \"journalName\": \"\",\n",
      "                \"magId\": \"2940882518\",\n",
      "                \"status\": \"\",\n",
      "                \"venue\": \"1999\",\n",
      "                \"year\": 1999\n",
      "            }\n",
      "        }\n",
      "    }\n",
      "}\n"
     ]
    }
   ],
   "source": [
    "# simple version\n",
    "headers = {\n",
    "    'content-type': 'application/json',\n",
    "    'Authorization': 'Bearer ' + API_KEY, \n",
    "}\n",
    "\n",
    "query=\"\"\"{ \n",
    "\tDocument(index:\"semanticscholar_cos\", id:\"123fa2d18fab2ae1752451405f0eac5e273f2695\") {\n",
    "\t  id\n",
    "    documentParts {\n",
    "      title\n",
    "    }\n",
    "    metadata {\n",
    "      country\n",
    "      datePubl\n",
    "      docNumber\n",
    "      doi\n",
    "      journalName\n",
    "      magId\n",
    "      status\n",
    "      venue\n",
    "      year\n",
    "    }\n",
    "\t}\n",
    "}\"\"\"\n",
    "\n",
    "\n",
    "url = 'https://api.logic-mill.net/api/v1/graphql/'\n",
    "\n",
    "r = requests.post(url, headers=headers, json={'query': query})\n",
    "\n",
    "if r.status_code == 200:\n",
    "    \n",
    "    print(r.text)\n",
    "else:\n",
    "    print(r.text)\n",
    "    print(f\"Error executing\\n{query}\\non {url}\")\n",
    "    \n"
   ]
  },
  {
   "cell_type": "code",
   "execution_count": 8,
   "metadata": {},
   "outputs": [
    {
     "data": {
      "text/plain": [
       "{'data': {'Document': {'documentParts': {'title': 'Airbag system for occupants of a vehicle and vehicle provided with such an air bag system.'},\n",
       "   'id': '123fa2d18fab2ae1752451405f0eac5e273f2695',\n",
       "   'metadata': {'country': '',\n",
       "    'datePubl': None,\n",
       "    'docNumber': '',\n",
       "    'doi': '',\n",
       "    'journalName': '',\n",
       "    'magId': '2940882518',\n",
       "    'status': '',\n",
       "    'venue': '1999',\n",
       "    'year': 1999}}}}"
      ]
     },
     "execution_count": 8,
     "metadata": {},
     "output_type": "execute_result"
    }
   ],
   "source": [
    "# Parameterized version\n",
    "\n",
    "# 1. add `query` and the variables in parenthesis. Copy the types from the documentation.\n",
    "# 2. add the variables in the query (eg. `$index`)\n",
    "query=\"\"\"query ($id:String!, $index:String!) { \n",
    "\tDocument(index:$index, id:$id) {\n",
    "\t  id\n",
    "    documentParts {\n",
    "      title\n",
    "    }\n",
    "    metadata {\n",
    "      country\n",
    "      datePubl\n",
    "      docNumber\n",
    "      doi\n",
    "      journalName\n",
    "      magId\n",
    "      status\n",
    "      venue\n",
    "      year\n",
    "    }\n",
    "\t}\n",
    "}\"\"\"\n",
    "\n",
    "\n",
    "variables = {\n",
    "    \"id\":\"123fa2d18fab2ae1752451405f0eac5e273f2695\",\n",
    "    \"index\":\"semanticscholar_cos\", \n",
    "}\n",
    "\n",
    "r = requests.post(url, headers=headers, json={'query': query , 'variables': variables})\n",
    "r.json()"
   ]
  },
  {
   "cell_type": "markdown",
   "metadata": {},
   "source": [
    "## Info from the document\n",
    "\n",
    "To select specific items you have to use the keys in the dictionary\n"
   ]
  },
  {
   "cell_type": "code",
   "execution_count": 9,
   "metadata": {},
   "outputs": [
    {
     "name": "stdout",
     "output_type": "stream",
     "text": [
      "Title:\n",
      "Airbag system for occupants of a vehicle and vehicle provided with such an air bag system.\n",
      "\n"
     ]
    }
   ],
   "source": [
    "data = r.json()['data']\n",
    "title = data['Document']['documentParts']['title']\n",
    "print(f\"Title:\\n{title}\\n\")\n",
    "\n",
    "\n"
   ]
  },
  {
   "cell_type": "markdown",
   "metadata": {},
   "source": [
    "## Get the numerical representiation/embedding\n",
    "\n",
    "The query is the same as above, only different fields are requested"
   ]
  },
  {
   "cell_type": "code",
   "execution_count": 10,
   "metadata": {},
   "outputs": [
    {
     "name": "stdout",
     "output_type": "stream",
     "text": [
      "First 10 numbers of the numerical representation\n",
      "[1.0929432, -1.4752408, 1.9569354, -1.1937265, -2.4067235, -0.26992768, 1.2921627, -1.0821707, 0.68318826, 0.26330143]\n"
     ]
    }
   ],
   "source": [
    "# same parameter setup as above\n",
    "query=\"\"\"query ($id:String!, $index:String!) { \n",
    "\tDocument(index:$index, id:$id) {\n",
    "    id\n",
    "    vector\n",
    "\t}\n",
    "}\"\"\"\n",
    "\n",
    "\n",
    "variables = {\"index\":\"semanticscholar_cos\", \"id\":\"123fa2d18fab2ae1752451405f0eac5e273f2695\"}\n",
    "\n",
    "url = 'https://api.logic-mill.net/api/v1/graphql/'\n",
    "\n",
    "r = requests.post(url, headers=headers, json={'query': query , 'variables': variables})\n",
    "\n",
    "\n",
    "if r.status_code == 200:\n",
    "    embedding = r.json()['data']['Document']['vector']\n",
    "    print(\"First 10 numbers of the numerical representation\")\n",
    "    print(embedding[:10])\n",
    "else:\n",
    "    print(f\"Error executing\\n{query}\\non {url}\")"
   ]
  },
  {
   "cell_type": "markdown",
   "metadata": {},
   "source": [
    "## Search _n_ most similar documents compared to a document in the database"
   ]
  },
  {
   "cell_type": "code",
   "execution_count": 11,
   "metadata": {},
   "outputs": [
    {
     "name": "stdout",
     "output_type": "stream",
     "text": [
      "{'document': {'documentParts': {'title': 'Airbag system for occupants of a vehicle and vehicle provided with such an air bag system.'}}, 'id': '123fa2d18fab2ae1752451405f0eac5e273f2695', 'score': 1}\n",
      "{'document': {'documentParts': {'title': 'WIRING HARNESS FOR AN AIRBAG MODULE OF A VEHICLE OCCUPANT SAFETY SYSTEM, AIRBAG MODULE, VEHICLE CABLING AND VEHICLE OCCUPANT SAFETY SYSTEM HAVING A WIRING HARNESS OF THIS KIND AND A METHOD OF PRODUCTION'}}, 'id': 'e88a357b4d2885e43038461cbe9d97c6dbed3dc7', 'score': 0.92575514}\n",
      "{'document': {'documentParts': {'title': 'Center curtain airbag apparatus for a vehicle'}}, 'id': 'ddcb07dbdaecf374cf11af530c1829de8c6775a4', 'score': 0.916877}\n",
      "{'document': {'documentParts': {'title': 'Airbag Bestückter seat for a vehicle occupant'}}, 'id': '4cfc283192a7b76d155349ab0f7c650b12f0bc20', 'score': 0.91184974}\n",
      "{'document': {'documentParts': {'title': 'An arrangement for automatic support a vehicle occupant'}}, 'id': 'c1468aa0fbddcc9ae33b879530b540db9edc11a2', 'score': 0.9099016}\n",
      "{'document': {'documentParts': {'title': 'Knee air bag arrangement for a vehicle'}}, 'id': 'c0899a20cf1aafbd2fe570ee543dfdb61dceed33', 'score': 0.90804625}\n"
     ]
    }
   ],
   "source": [
    "n=5\n",
    "\n",
    "query=\"\"\"query ($id:String!, $index:String!, $amount:Int) {\n",
    "  SimilaritySearch(index:$index, id:$id, amount:$amount) {\n",
    " \t  id\n",
    "    score\n",
    "    document {\n",
    "      documentParts {\n",
    "        title  \n",
    "      }\n",
    "    }\n",
    "  }\n",
    "}\"\"\"\n",
    "\n",
    "variables = {\n",
    "  \"index\":\"semanticscholar_cos\", \"id\":\"123fa2d18fab2ae1752451405f0eac5e273f2695\", \n",
    "  \"amount\":n+1 # the first one is always the focal document\n",
    "}\n",
    "\n",
    "url = 'https://api.logic-mill.net/api/v1/graphql/'\n",
    "r = requests.post(url, headers=headers, json={\n",
    "                  'query': query, 'variables': variables})\n",
    "\n",
    "if r.status_code == 200:\n",
    "    results = r.json()['data']['SimilaritySearch']\n",
    "    for i in results:\n",
    "        print(i)\n",
    "else:\n",
    "    print(f\"Error executing\\n{query}\\non {url}\")"
   ]
  },
  {
   "cell_type": "markdown",
   "metadata": {},
   "source": [
    "### Create a Dataframe of the result\n",
    "\n",
    "Since we get a nested result from the API, we need to gather the results from the different hierarchical layers\n",
    "\n",
    "\n",
    "Level 1: \n",
    "```\n",
    "id\n",
    "score\n",
    "document\n",
    "```\n",
    "\n",
    "document is a nested value with \n",
    "\n",
    "```\n",
    "documentsParts\n",
    "    abstract (available for patents not for Semantic Scholar)\n",
    "    title\n",
    "    ...\n",
    "```"
   ]
  },
  {
   "cell_type": "code",
   "execution_count": 12,
   "metadata": {},
   "outputs": [
    {
     "data": {
      "text/html": [
       "<div>\n",
       "<style scoped>\n",
       "    .dataframe tbody tr th:only-of-type {\n",
       "        vertical-align: middle;\n",
       "    }\n",
       "\n",
       "    .dataframe tbody tr th {\n",
       "        vertical-align: top;\n",
       "    }\n",
       "\n",
       "    .dataframe thead th {\n",
       "        text-align: right;\n",
       "    }\n",
       "</style>\n",
       "<table border=\"1\" class=\"dataframe\">\n",
       "  <thead>\n",
       "    <tr style=\"text-align: right;\">\n",
       "      <th></th>\n",
       "      <th>document</th>\n",
       "      <th>id</th>\n",
       "      <th>score</th>\n",
       "    </tr>\n",
       "  </thead>\n",
       "  <tbody>\n",
       "    <tr>\n",
       "      <th>1</th>\n",
       "      <td>{'documentParts': {'title': 'WIRING HARNESS FO...</td>\n",
       "      <td>e88a357b4d2885e43038461cbe9d97c6dbed3dc7</td>\n",
       "      <td>0.925755</td>\n",
       "    </tr>\n",
       "    <tr>\n",
       "      <th>2</th>\n",
       "      <td>{'documentParts': {'title': 'Center curtain ai...</td>\n",
       "      <td>ddcb07dbdaecf374cf11af530c1829de8c6775a4</td>\n",
       "      <td>0.916877</td>\n",
       "    </tr>\n",
       "    <tr>\n",
       "      <th>3</th>\n",
       "      <td>{'documentParts': {'title': 'Airbag Bestückter...</td>\n",
       "      <td>4cfc283192a7b76d155349ab0f7c650b12f0bc20</td>\n",
       "      <td>0.911850</td>\n",
       "    </tr>\n",
       "    <tr>\n",
       "      <th>4</th>\n",
       "      <td>{'documentParts': {'title': 'An arrangement fo...</td>\n",
       "      <td>c1468aa0fbddcc9ae33b879530b540db9edc11a2</td>\n",
       "      <td>0.909902</td>\n",
       "    </tr>\n",
       "    <tr>\n",
       "      <th>5</th>\n",
       "      <td>{'documentParts': {'title': 'Knee air bag arra...</td>\n",
       "      <td>c0899a20cf1aafbd2fe570ee543dfdb61dceed33</td>\n",
       "      <td>0.908046</td>\n",
       "    </tr>\n",
       "  </tbody>\n",
       "</table>\n",
       "</div>"
      ],
      "text/plain": [
       "                                            document   \n",
       "1  {'documentParts': {'title': 'WIRING HARNESS FO...  \\\n",
       "2  {'documentParts': {'title': 'Center curtain ai...   \n",
       "3  {'documentParts': {'title': 'Airbag Bestückter...   \n",
       "4  {'documentParts': {'title': 'An arrangement fo...   \n",
       "5  {'documentParts': {'title': 'Knee air bag arra...   \n",
       "\n",
       "                                         id     score  \n",
       "1  e88a357b4d2885e43038461cbe9d97c6dbed3dc7  0.925755  \n",
       "2  ddcb07dbdaecf374cf11af530c1829de8c6775a4  0.916877  \n",
       "3  4cfc283192a7b76d155349ab0f7c650b12f0bc20  0.911850  \n",
       "4  c1468aa0fbddcc9ae33b879530b540db9edc11a2  0.909902  \n",
       "5  c0899a20cf1aafbd2fe570ee543dfdb61dceed33  0.908046  "
      ]
     },
     "execution_count": 12,
     "metadata": {},
     "output_type": "execute_result"
    }
   ],
   "source": [
    "pd.DataFrame(results)[1:]"
   ]
  },
  {
   "cell_type": "markdown",
   "metadata": {},
   "source": [
    "**Observation 1:**\n",
    "\n",
    "`id` and `score` at the top of the hierarchy and can be used directly. Within `document`, `documentParts` contains the other relevant information. \n",
    "\n",
    "**Observation 2:**\n",
    "\n",
    "Because of the nested structure, a loop or an apply is needed. "
   ]
  },
  {
   "cell_type": "code",
   "execution_count": 13,
   "metadata": {},
   "outputs": [
    {
     "data": {
      "text/html": [
       "<div>\n",
       "<style scoped>\n",
       "    .dataframe tbody tr th:only-of-type {\n",
       "        vertical-align: middle;\n",
       "    }\n",
       "\n",
       "    .dataframe tbody tr th {\n",
       "        vertical-align: top;\n",
       "    }\n",
       "\n",
       "    .dataframe thead th {\n",
       "        text-align: right;\n",
       "    }\n",
       "</style>\n",
       "<table border=\"1\" class=\"dataframe\">\n",
       "  <thead>\n",
       "    <tr style=\"text-align: right;\">\n",
       "      <th></th>\n",
       "      <th>id</th>\n",
       "      <th>score</th>\n",
       "      <th>title</th>\n",
       "    </tr>\n",
       "  </thead>\n",
       "  <tbody>\n",
       "    <tr>\n",
       "      <th>0</th>\n",
       "      <td>123fa2d18fab2ae1752451405f0eac5e273f2695</td>\n",
       "      <td>1.000000</td>\n",
       "      <td>Airbag system for occupants of a vehicle and v...</td>\n",
       "    </tr>\n",
       "    <tr>\n",
       "      <th>1</th>\n",
       "      <td>e88a357b4d2885e43038461cbe9d97c6dbed3dc7</td>\n",
       "      <td>0.925755</td>\n",
       "      <td>WIRING HARNESS FOR AN AIRBAG MODULE OF A VEHIC...</td>\n",
       "    </tr>\n",
       "    <tr>\n",
       "      <th>2</th>\n",
       "      <td>ddcb07dbdaecf374cf11af530c1829de8c6775a4</td>\n",
       "      <td>0.916877</td>\n",
       "      <td>Center curtain airbag apparatus for a vehicle</td>\n",
       "    </tr>\n",
       "    <tr>\n",
       "      <th>3</th>\n",
       "      <td>4cfc283192a7b76d155349ab0f7c650b12f0bc20</td>\n",
       "      <td>0.911850</td>\n",
       "      <td>Airbag Bestückter seat for a vehicle occupant</td>\n",
       "    </tr>\n",
       "    <tr>\n",
       "      <th>4</th>\n",
       "      <td>c1468aa0fbddcc9ae33b879530b540db9edc11a2</td>\n",
       "      <td>0.909902</td>\n",
       "      <td>An arrangement for automatic support a vehicle...</td>\n",
       "    </tr>\n",
       "    <tr>\n",
       "      <th>5</th>\n",
       "      <td>c0899a20cf1aafbd2fe570ee543dfdb61dceed33</td>\n",
       "      <td>0.908046</td>\n",
       "      <td>Knee air bag arrangement for a vehicle</td>\n",
       "    </tr>\n",
       "  </tbody>\n",
       "</table>\n",
       "</div>"
      ],
      "text/plain": [
       "                                         id     score   \n",
       "0  123fa2d18fab2ae1752451405f0eac5e273f2695  1.000000  \\\n",
       "1  e88a357b4d2885e43038461cbe9d97c6dbed3dc7  0.925755   \n",
       "2  ddcb07dbdaecf374cf11af530c1829de8c6775a4  0.916877   \n",
       "3  4cfc283192a7b76d155349ab0f7c650b12f0bc20  0.911850   \n",
       "4  c1468aa0fbddcc9ae33b879530b540db9edc11a2  0.909902   \n",
       "5  c0899a20cf1aafbd2fe570ee543dfdb61dceed33  0.908046   \n",
       "\n",
       "                                               title  \n",
       "0  Airbag system for occupants of a vehicle and v...  \n",
       "1  WIRING HARNESS FOR AN AIRBAG MODULE OF A VEHIC...  \n",
       "2      Center curtain airbag apparatus for a vehicle  \n",
       "3      Airbag Bestückter seat for a vehicle occupant  \n",
       "4  An arrangement for automatic support a vehicle...  \n",
       "5             Knee air bag arrangement for a vehicle  "
      ]
     },
     "execution_count": 13,
     "metadata": {},
     "output_type": "execute_result"
    }
   ],
   "source": [
    "# Example with apply\n",
    "similar_docs = pd.DataFrame(results)\n",
    "keys = similar_docs[\"document\"][0][\"documentParts\"].keys() \n",
    "\n",
    "for k in keys:\n",
    "    similar_docs[k] = similar_docs[\"document\"].apply(lambda x: x[\"documentParts\"][k])\n",
    "\n",
    "# remove document\n",
    "del similar_docs[\"document\"]\n",
    "\n",
    "similar_docs"
   ]
  },
  {
   "cell_type": "markdown",
   "metadata": {},
   "source": [
    "## Create a new embedding for a user document"
   ]
  },
  {
   "cell_type": "markdown",
   "metadata": {},
   "source": [
    "We use the `embedDocument` endpoint. This query expects an `LmDocumentMutationObject`. This object look like this\n",
    "\n",
    "```\n",
    "id: String!\n",
    "parts: [LmDocumentPartsMutationObject]\n",
    "```\n",
    "\n",
    "`LmDocumentPartsMutationObject` is a key/value pair for every field (title and abstract)\n",
    "\n",
    "The `id` is for identification purposes and can be any number.\n",
    "\n",
    "Many time we may have the data available in some datastructure (CSV, Excel file, dictionary). In the following example we will use a dictionary."
   ]
  },
  {
   "cell_type": "code",
   "execution_count": 14,
   "metadata": {},
   "outputs": [
    {
     "data": {
      "text/html": [
       "<div>\n",
       "<style scoped>\n",
       "    .dataframe tbody tr th:only-of-type {\n",
       "        vertical-align: middle;\n",
       "    }\n",
       "\n",
       "    .dataframe tbody tr th {\n",
       "        vertical-align: top;\n",
       "    }\n",
       "\n",
       "    .dataframe thead th {\n",
       "        text-align: right;\n",
       "    }\n",
       "</style>\n",
       "<table border=\"1\" class=\"dataframe\">\n",
       "  <thead>\n",
       "    <tr style=\"text-align: right;\">\n",
       "      <th></th>\n",
       "      <th>id</th>\n",
       "      <th>title</th>\n",
       "      <th>abstract</th>\n",
       "    </tr>\n",
       "  </thead>\n",
       "  <tbody>\n",
       "    <tr>\n",
       "      <th>0</th>\n",
       "      <td>ML001</td>\n",
       "      <td>Towards A Rigorous Science of Interpretable Ma...</td>\n",
       "      <td>As machine learning systems become ubiquitous,...</td>\n",
       "    </tr>\n",
       "    <tr>\n",
       "      <th>1</th>\n",
       "      <td>ML002</td>\n",
       "      <td>Machine Learning Interpretability: A Science r...</td>\n",
       "      <td>The term \"interpretability\" is oftenly used by...</td>\n",
       "    </tr>\n",
       "    <tr>\n",
       "      <th>2</th>\n",
       "      <td>ML003</td>\n",
       "      <td>Opening the black box of neural networks: meth...</td>\n",
       "      <td>Artificial neural networks (ANNs) are powerful...</td>\n",
       "    </tr>\n",
       "  </tbody>\n",
       "</table>\n",
       "</div>"
      ],
      "text/plain": [
       "      id                                              title   \n",
       "0  ML001  Towards A Rigorous Science of Interpretable Ma...  \\\n",
       "1  ML002  Machine Learning Interpretability: A Science r...   \n",
       "2  ML003  Opening the black box of neural networks: meth...   \n",
       "\n",
       "                                            abstract  \n",
       "0  As machine learning systems become ubiquitous,...  \n",
       "1  The term \"interpretability\" is oftenly used by...  \n",
       "2  Artificial neural networks (ANNs) are powerful...  "
      ]
     },
     "execution_count": 14,
     "metadata": {},
     "output_type": "execute_result"
    }
   ],
   "source": [
    "# our data\n",
    "\n",
    "biblios = [{\n",
    "    \"id\": \"ML001\",\n",
    "    \"title\" : \"Towards A Rigorous Science of Interpretable Machine Learning\",\n",
    "    \"abstract\" : \"As machine learning systems become ubiquitous, there has been a surge of interest in interpretable machine learning: systems that provide explanation for their outputs. These explanations are often used to qualitatively assess other criteria such as safety or non-discrimination. However, despite the interest in interpretability, there is very little consensus on what interpretable machine learning is and how it should be measured. In this position paper, we first define interpretability and describe when interpretability is needed (and when it is not). Next, we suggest a taxonomy for rigorous evaluation and expose open questions towards a more rigorous science of interpretable machine learning.\"\n",
    "} , {\n",
    "    \"id\": \"ML002\",\n",
    "    \"title\": \"Machine Learning Interpretability: A Science rather than a tool\",\n",
    "    \"abstract\": \"\"\"The term \"interpretability\" is oftenly used by machine learning researchers each with their own intuitive understanding of it. There is no universal well agreed upon definition of interpretability in machine learning. As any type of science discipline is mainly driven by the set of formulated questions rather than by different tools in that discipline, e.g. astrophysics is the discipline that learns the composition of stars, not as the discipline that use the spectroscopes. Similarly, we propose that machine learning interpretability should be a discipline that answers specific questions related to interpretability. These questions can be of statistical, causal and counterfactual nature. Therefore, there is a need to look into the interpretability problem of machine learning in the context of questions that need to be addressed rather than different tools. We discuss about a hypothetical interpretability framework driven by a question based scientific approach rather than some specific machine learning model. Using a question based notion of interpretability, we can step towards understanding the science of machine learning rather than its engineering. This notion will also help us understanding any specific problem more in depth rather than relying solely on machine learning methods\"\"\"\n",
    "}, {\n",
    "    \"id\": \"ML003\",\n",
    "    \"title\": \"Opening the black box of neural networks: methods for interpreting neural network models in clinical applications\",\n",
    "    \"abstract\": \"\"\"Artificial neural networks (ANNs) are powerful tools for data analysis and are particularly suitable for modeling relationships between variables for best prediction of an outcome. While these models can be used to answer many important research questions, their utility has been critically limited because the interpretation of the \"black box\" model is difficult. Clinical investigators usually employ ANN models to predict the clinical outcomes or to make a diagnosis; the model however is difficult to interpret for clinicians. To address this important shortcoming of neural network modeling methods, we describe several methods to help subject-matter audiences (e.g., clinicians, medical policy makers) understand neural network models. Garson's algorithm describes the relative magnitude of the importance of a descriptor (predictor) in its connection with outcome variables by dissecting the model weights. The Lek's profile method explores the relationship of the outcome variable and a predictor of interest, while holding other predictors at constant values (e.g., minimum, 20th quartile, maximum). While Lek's profile was developed specifically for neural networks, partial dependence plot is a more generic version that visualize the relationship between an outcome and one or two predictors. Finally, the local interpretable model-agnostic explanations (LIME) method can show the predictions of any classification or regression, by approximating it locally with an interpretable model. R code for the implementations of these methods is shown by using example data fitted with a standard, feed-forward neural network model. We offer codes and step-by-step description on how to use these tools to facilitate better understanding of ANN\"\"\"\n",
    "}]\n",
    "\n",
    "pd.DataFrame(biblios)"
   ]
  },
  {
   "cell_type": "markdown",
   "metadata": {},
   "source": [
    "We wish to encode the first item"
   ]
  },
  {
   "cell_type": "code",
   "execution_count": 15,
   "metadata": {},
   "outputs": [],
   "source": [
    "# take the first record\n",
    "biblio = biblios[0]"
   ]
  },
  {
   "cell_type": "code",
   "execution_count": 16,
   "metadata": {},
   "outputs": [
    {
     "data": {
      "text/plain": [
       "{'id': 'ML001',\n",
       " 'parts': [{'key': 'title',\n",
       "   'value': 'Towards A Rigorous Science of Interpretable Machine Learning'},\n",
       "  {'key': 'abstract',\n",
       "   'value': 'As machine learning systems become ubiquitous, there has been a surge of interest in interpretable machine learning: systems that provide explanation for their outputs. These explanations are often used to qualitatively assess other criteria such as safety or non-discrimination. However, despite the interest in interpretability, there is very little consensus on what interpretable machine learning is and how it should be measured. In this position paper, we first define interpretability and describe when interpretability is needed (and when it is not). Next, we suggest a taxonomy for rigorous evaluation and expose open questions towards a more rigorous science of interpretable machine learning.'}]}"
      ]
     },
     "execution_count": 16,
     "metadata": {},
     "output_type": "execute_result"
    }
   ],
   "source": [
    "# prepare the data \n",
    "\n",
    "data = {\"id\": biblio['id'], \"parts\":[]}\n",
    "# create the key value pairs; (a more direct way of doing this is also possible)\n",
    "data[\"parts\"] = [{\"key\": k, \"value\":v} for k,v in biblio.items() if k!='id']\n",
    "data\n"
   ]
  },
  {
   "cell_type": "code",
   "execution_count": 17,
   "metadata": {},
   "outputs": [
    {
     "data": {
      "text/plain": [
       "{'data': {'id': 'ML001',\n",
       "  'parts': [{'key': 'title',\n",
       "    'value': 'Towards A Rigorous Science of Interpretable Machine Learning'},\n",
       "   {'key': 'abstract',\n",
       "    'value': 'As machine learning systems become ubiquitous, there has been a surge of interest in interpretable machine learning: systems that provide explanation for their outputs. These explanations are often used to qualitatively assess other criteria such as safety or non-discrimination. However, despite the interest in interpretability, there is very little consensus on what interpretable machine learning is and how it should be measured. In this position paper, we first define interpretability and describe when interpretability is needed (and when it is not). Next, we suggest a taxonomy for rigorous evaluation and expose open questions towards a more rigorous science of interpretable machine learning.'}]}}"
      ]
     },
     "execution_count": 17,
     "metadata": {},
     "output_type": "execute_result"
    }
   ],
   "source": [
    "# add to the variables dictionary\n",
    "variables = {\"data\" : data}\n",
    "variables"
   ]
  },
  {
   "cell_type": "code",
   "execution_count": 18,
   "metadata": {},
   "outputs": [],
   "source": [
    "# prepare query with \n",
    "query = \"\"\"mutation ($data:LmDocumentMutationObject) {\n",
    "  embedDocument(data: $data)\n",
    "}\"\"\""
   ]
  },
  {
   "cell_type": "code",
   "execution_count": 19,
   "metadata": {},
   "outputs": [],
   "source": [
    "url = 'https://api.logic-mill.net/api/v1/graphql/'\n",
    "r = requests.post(url, json={'query': query, 'variables': variables})\n",
    "if r.status_code == 200:\n",
    "    # print(r.text)\n",
    "    vector=r.json()[\"data\"][\"embedDocument\"]\n",
    "    print(vector[:10])\n",
    "\n"
   ]
  },
  {
   "cell_type": "markdown",
   "metadata": {},
   "source": [
    "## Create embedding for multiple documents\n",
    "\n",
    "We use a similar setup as with one document but in a loop with multiple API calls\n"
   ]
  },
  {
   "cell_type": "code",
   "execution_count": 20,
   "metadata": {},
   "outputs": [
    {
     "data": {
      "text/html": [
       "<div>\n",
       "<style scoped>\n",
       "    .dataframe tbody tr th:only-of-type {\n",
       "        vertical-align: middle;\n",
       "    }\n",
       "\n",
       "    .dataframe tbody tr th {\n",
       "        vertical-align: top;\n",
       "    }\n",
       "\n",
       "    .dataframe thead th {\n",
       "        text-align: right;\n",
       "    }\n",
       "</style>\n",
       "<table border=\"1\" class=\"dataframe\">\n",
       "  <thead>\n",
       "    <tr style=\"text-align: right;\">\n",
       "      <th></th>\n",
       "    </tr>\n",
       "  </thead>\n",
       "  <tbody>\n",
       "  </tbody>\n",
       "</table>\n",
       "</div>"
      ],
      "text/plain": [
       "Empty DataFrame\n",
       "Columns: []\n",
       "Index: []"
      ]
     },
     "execution_count": 20,
     "metadata": {},
     "output_type": "execute_result"
    }
   ],
   "source": [
    "query = \"\"\"mutation ($data:LmDocumentMutationObject) {\n",
    "  embedDocument(data: $data)\n",
    "}\"\"\"\n",
    "url = 'https://api.logic-mill.net/api/v1/graphql/'\n",
    "\n",
    "\n",
    "df = pd.DataFrame()\n",
    "for biblio in biblios:\n",
    "    data = {\"id\": biblio['id']}\n",
    "    data[\"parts\"] = [{\"key\": k, \"value\":v} for k,v in biblio.items() if k!='id']\n",
    "    variables = {\"data\" : data}\n",
    "\n",
    "    r = requests.post(url, json={'query': query, 'variables': variables})\n",
    "    if r.status_code == 200:\n",
    "\n",
    "      # store the results\n",
    "      vector=r.json()[\"data\"][\"embedDocument\"]\n",
    "      embedding =  pd.DataFrame(vector).T\n",
    "      embedding.index = [biblio['id']]\n",
    "      df = pd.concat([df,embedding], axis=0)\n",
    "      \n",
    "df\n",
    "    "
   ]
  },
  {
   "cell_type": "markdown",
   "metadata": {},
   "source": [
    "## Find similarity scores between user supplied documents"
   ]
  },
  {
   "cell_type": "code",
   "execution_count": 21,
   "metadata": {},
   "outputs": [],
   "source": [
    "# prepare the data field\n",
    "data = []\n",
    "\n",
    "for biblio in biblios:\n",
    "    # put data in expected structure.\n",
    "    record = {\"id\": biblio['id'], \"parts\":[]}\n",
    "    record[\"parts\"] = [{\"key\": k, \"value\":v} for k,v in biblio.items() if k!='id']\n",
    "    data.append(record)\n",
    "\n"
   ]
  },
  {
   "cell_type": "code",
   "execution_count": 22,
   "metadata": {},
   "outputs": [
    {
     "data": {
      "text/plain": [
       "[{'id': 'ML001',\n",
       "  'parts': [{'key': 'title',\n",
       "    'value': 'Towards A Rigorous Science of Interpretable Machine Learning'},\n",
       "   {'key': 'abstract',\n",
       "    'value': 'As machine learning systems become ubiquitous, there has been a surge of interest in interpretable machine learning: systems that provide explanation for their outputs. These explanations are often used to qualitatively assess other criteria such as safety or non-discrimination. However, despite the interest in interpretability, there is very little consensus on what interpretable machine learning is and how it should be measured. In this position paper, we first define interpretability and describe when interpretability is needed (and when it is not). Next, we suggest a taxonomy for rigorous evaluation and expose open questions towards a more rigorous science of interpretable machine learning.'}]},\n",
       " {'id': 'ML002',\n",
       "  'parts': [{'key': 'title',\n",
       "    'value': 'Machine Learning Interpretability: A Science rather than a tool'},\n",
       "   {'key': 'abstract',\n",
       "    'value': 'The term \"interpretability\" is oftenly used by machine learning researchers each with their own intuitive understanding of it. There is no universal well agreed upon definition of interpretability in machine learning. As any type of science discipline is mainly driven by the set of formulated questions rather than by different tools in that discipline, e.g. astrophysics is the discipline that learns the composition of stars, not as the discipline that use the spectroscopes. Similarly, we propose that machine learning interpretability should be a discipline that answers specific questions related to interpretability. These questions can be of statistical, causal and counterfactual nature. Therefore, there is a need to look into the interpretability problem of machine learning in the context of questions that need to be addressed rather than different tools. We discuss about a hypothetical interpretability framework driven by a question based scientific approach rather than some specific machine learning model. Using a question based notion of interpretability, we can step towards understanding the science of machine learning rather than its engineering. This notion will also help us understanding any specific problem more in depth rather than relying solely on machine learning methods'}]},\n",
       " {'id': 'ML003',\n",
       "  'parts': [{'key': 'title',\n",
       "    'value': 'Opening the black box of neural networks: methods for interpreting neural network models in clinical applications'},\n",
       "   {'key': 'abstract',\n",
       "    'value': 'Artificial neural networks (ANNs) are powerful tools for data analysis and are particularly suitable for modeling relationships between variables for best prediction of an outcome. While these models can be used to answer many important research questions, their utility has been critically limited because the interpretation of the \"black box\" model is difficult. Clinical investigators usually employ ANN models to predict the clinical outcomes or to make a diagnosis; the model however is difficult to interpret for clinicians. To address this important shortcoming of neural network modeling methods, we describe several methods to help subject-matter audiences (e.g., clinicians, medical policy makers) understand neural network models. Garson\\'s algorithm describes the relative magnitude of the importance of a descriptor (predictor) in its connection with outcome variables by dissecting the model weights. The Lek\\'s profile method explores the relationship of the outcome variable and a predictor of interest, while holding other predictors at constant values (e.g., minimum, 20th quartile, maximum). While Lek\\'s profile was developed specifically for neural networks, partial dependence plot is a more generic version that visualize the relationship between an outcome and one or two predictors. Finally, the local interpretable model-agnostic explanations (LIME) method can show the predictions of any classification or regression, by approximating it locally with an interpretable model. R code for the implementations of these methods is shown by using example data fitted with a standard, feed-forward neural network model. We offer codes and step-by-step description on how to use these tools to facilitate better understanding of ANN'}]}]"
      ]
     },
     "execution_count": 22,
     "metadata": {},
     "output_type": "execute_result"
    }
   ],
   "source": [
    "data"
   ]
  },
  {
   "cell_type": "code",
   "execution_count": 23,
   "metadata": {},
   "outputs": [
    {
     "name": "stdout",
     "output_type": "stream",
     "text": [
      "{\n",
      "    \"data\": {\n",
      "        \"encodeDocumentAndSimilarityCalculation\": {\n",
      "            \"similarities\": [\n",
      "                [\n",
      "                    1,\n",
      "                    0.8112392,\n",
      "                    0.55713564\n",
      "                ],\n",
      "                [\n",
      "                    0.8112392,\n",
      "                    1,\n",
      "                    0.54929286\n",
      "                ],\n",
      "                [\n",
      "                    0.55713564,\n",
      "                    0.54929286,\n",
      "                    1\n",
      "                ]\n",
      "            ],\n",
      "            \"xs\": [\n",
      "                {\n",
      "                    \"id\": \"ML001\"\n",
      "                },\n",
      "                {\n",
      "                    \"id\": \"ML002\"\n",
      "                },\n",
      "                {\n",
      "                    \"id\": \"ML003\"\n",
      "                }\n",
      "            ],\n",
      "            \"ys\": [\n",
      "                {\n",
      "                    \"id\": \"ML001\"\n",
      "                },\n",
      "                {\n",
      "                    \"id\": \"ML002\"\n",
      "                },\n",
      "                {\n",
      "                    \"id\": \"ML003\"\n",
      "                }\n",
      "            ]\n",
      "        }\n",
      "    }\n",
      "}\n"
     ]
    }
   ],
   "source": [
    "query = \"\"\"\n",
    "query encodeDocumentAndSimilarityCalculation($data: [EncodeObject]) {\n",
    "  encodeDocumentAndSimilarityCalculation(data: $data, similarityMetric: cosine) {\n",
    "    similarities\n",
    "    xs {\n",
    "      id\n",
    "    }\n",
    "    ys {\n",
    "      id\n",
    "    }\n",
    "  }\n",
    "}\n",
    "\"\"\"\n",
    "\n",
    "variables = {\"data\": data, \"metric\": 'cosine'}\n",
    "\n",
    "url = 'https://api.logic-mill.net/api/v1/graphql/'\n",
    "r = requests.post(url,headers=headers,  json={'query': query, 'variables': variables})\n",
    "print(r.text)"
   ]
  },
  {
   "cell_type": "code",
   "execution_count": 24,
   "metadata": {},
   "outputs": [
    {
     "data": {
      "text/html": [
       "<div>\n",
       "<style scoped>\n",
       "    .dataframe tbody tr th:only-of-type {\n",
       "        vertical-align: middle;\n",
       "    }\n",
       "\n",
       "    .dataframe tbody tr th {\n",
       "        vertical-align: top;\n",
       "    }\n",
       "\n",
       "    .dataframe thead th {\n",
       "        text-align: right;\n",
       "    }\n",
       "</style>\n",
       "<table border=\"1\" class=\"dataframe\">\n",
       "  <thead>\n",
       "    <tr style=\"text-align: right;\">\n",
       "      <th></th>\n",
       "      <th>ML001</th>\n",
       "      <th>ML002</th>\n",
       "      <th>ML003</th>\n",
       "    </tr>\n",
       "  </thead>\n",
       "  <tbody>\n",
       "    <tr>\n",
       "      <th>ML001</th>\n",
       "      <td>1.000000</td>\n",
       "      <td>0.811239</td>\n",
       "      <td>0.557136</td>\n",
       "    </tr>\n",
       "    <tr>\n",
       "      <th>ML002</th>\n",
       "      <td>0.811239</td>\n",
       "      <td>1.000000</td>\n",
       "      <td>0.549293</td>\n",
       "    </tr>\n",
       "    <tr>\n",
       "      <th>ML003</th>\n",
       "      <td>0.557136</td>\n",
       "      <td>0.549293</td>\n",
       "      <td>1.000000</td>\n",
       "    </tr>\n",
       "  </tbody>\n",
       "</table>\n",
       "</div>"
      ],
      "text/plain": [
       "          ML001     ML002     ML003\n",
       "ML001  1.000000  0.811239  0.557136\n",
       "ML002  0.811239  1.000000  0.549293\n",
       "ML003  0.557136  0.549293  1.000000"
      ]
     },
     "execution_count": 24,
     "metadata": {},
     "output_type": "execute_result"
    }
   ],
   "source": [
    "# prettify the similarity data in a dataframe\n",
    "\n",
    "# create a df of just the scores\n",
    "df = pd.DataFrame(\n",
    "    r.json()['data']['encodeDocumentAndSimilarityCalculation']['similarities'])\n",
    "\n",
    "# get column and row names\n",
    "cols = pd.DataFrame(\n",
    "    r.json()['data']['encodeDocumentAndSimilarityCalculation']['xs'])\n",
    "rows = pd.DataFrame(\n",
    "    r.json()['data']['encodeDocumentAndSimilarityCalculation']['ys'])\n",
    "\n",
    "# set the column names and indexes\n",
    "df.columns = cols[\"id\"].to_list()\n",
    "df.index = cols[\"id\"].to_list()\n",
    "\n",
    "df"
   ]
  },
  {
   "cell_type": "markdown",
   "metadata": {},
   "source": [
    "## Find similar documents in the database compared to user uploaded document\n"
   ]
  },
  {
   "cell_type": "code",
   "execution_count": 32,
   "metadata": {},
   "outputs": [
    {
     "name": "stdout",
     "output_type": "stream",
     "text": [
      "{\n",
      "    \"data\": {\n",
      "        \"embedDocumentAndSimilaritySearch\": [\n",
      "            {\n",
      "                \"document\": {\n",
      "                    \"documentParts\": {\n",
      "                        \"title\": \"SYSTEM AND METHOD FOR GENERATING EXPLAINABLE LATENT FEATURES OF MACHINE LEARNING MODELS\"\n",
      "                    },\n",
      "                    \"id\": \"EP19175570A1\"\n",
      "                },\n",
      "                \"index\": \"epo_cos\",\n",
      "                \"score\": 0.84660786\n",
      "            },\n",
      "            {\n",
      "                \"document\": {\n",
      "                    \"documentParts\": {\n",
      "                        \"title\": \"AUTOMATED, PROGRESSIVE EXPLANATIONS OF MACHINE LEARNING RESULTS\"\n",
      "                    },\n",
      "                    \"id\": \"EP20215206A3\"\n",
      "                },\n",
      "                \"index\": \"epo_cos\",\n",
      "                \"score\": 0.8455859\n",
      "            },\n",
      "            {\n",
      "                \"document\": {\n",
      "                    \"documentParts\": {\n",
      "                        \"title\": \"AUTOMATED, PROGRESSIVE EXPLANATIONS OF MACHINE LEARNING RESULTS\"\n",
      "                    },\n",
      "                    \"id\": \"EP20215206A2\"\n",
      "                },\n",
      "                \"index\": \"epo_cos\",\n",
      "                \"score\": 0.8455858\n",
      "            }\n",
      "        ]\n",
      "    }\n",
      "}\n"
     ]
    }
   ],
   "source": [
    "# simple version\n",
    "\n",
    "query = \"\"\"mutation {\n",
    "  embedDocumentAndSimilaritySearch(\n",
    "    data: \n",
    "    \n",
    "     [\n",
    "        {\n",
    "            key: \"title\",\n",
    "            value: \"Towards A Rigorous Science of Interpretable Machine Learning\"\n",
    "        },\n",
    "        {\n",
    "            key: \"abstract\",\n",
    "            value: \"As machine learning systems become ubiquitous, there has been a surge of interest in interpretable machine learning: systems that provide explanation for their outputs. These explanations are often used to qualitatively assess other criteria such as safety or non-discrimination. However, despite the interest in interpretability, there is very little consensus on what interpretable machine learning is and how it should be measured. In this position paper, we first define interpretability and describe when interpretability is needed (and when it is not). Next, we suggest a taxonomy for rigorous evaluation and expose open questions towards a more rigorous science of interpretable machine learning.\"\n",
    "        }\n",
    "    ]\n",
    "      \n",
    "  \tamount: 3\n",
    "  \tindices:[\"epo_cos\"]\n",
    "  ) {\n",
    "    document {\n",
    "      id\n",
    "      documentParts {\n",
    "        title\n",
    "      }\n",
    "      \n",
    "    }\n",
    "    index\n",
    "    score\n",
    "  }\n",
    "}\"\"\"\n",
    "\n",
    "url = 'https://api.logic-mill.net/api/v1/graphql/'\n",
    "r = requests.post(url, headers=headers, json={'query': query})\n",
    "# print(r.status_code)\n",
    "print(r.text)\n"
   ]
  },
  {
   "cell_type": "code",
   "execution_count": 33,
   "metadata": {},
   "outputs": [],
   "source": [
    "# parameterized version\n",
    "\n",
    "query = \"\"\"\n",
    "query embedDocumentAndSimilaritySearch($data: [EncodeDocumentPart], $indices: [String], $amount: Int) {\n",
    "  encodeDocumentAndSimilaritySearch(\n",
    "    data: $data\n",
    "    indices: $indices\n",
    "    amount: $amount\n",
    "  ) {\n",
    "    document {\n",
    "      documentParts {\n",
    "        title\n",
    "      }\n",
    "    }\n",
    "    id\n",
    "    score\n",
    "    index\n",
    "  }\n",
    "}\n",
    "\"\"\"\n",
    "\n",
    "\n"
   ]
  },
  {
   "cell_type": "code",
   "execution_count": 34,
   "metadata": {},
   "outputs": [
    {
     "name": "stdout",
     "output_type": "stream",
     "text": [
      "200\n"
     ]
    }
   ],
   "source": [
    "biblio = biblios[2]\n",
    "data = [{\"key\": k, \"value\":v} for k,v in biblio.items() if k!='id']\n",
    "\n",
    "variables = {\n",
    "    \"amount\": 3,\n",
    "    \"data\": data,\n",
    "    \"indices\": indices # we have received them above\n",
    "}\n",
    "\n",
    "url = 'https://api.logic-mill.net/api/v1/graphql/'\n",
    "r = requests.post(url, headers=headers, json={'query': query, 'variables': variables})\n",
    "print(r.status_code)\n"
   ]
  },
  {
   "cell_type": "code",
   "execution_count": 28,
   "metadata": {},
   "outputs": [
    {
     "data": {
      "text/plain": [
       "{'data': {'encodeDocumentAndSimilaritySearch': [{'document': {'documentParts': {'title': 'Opening the black box of neural networks: methods for interpreting neural network models in clinical applications.'}},\n",
       "    'id': 'a4552ac3d7a4510227203b8388c899ff9428a969',\n",
       "    'index': 'semanticscholar_cos',\n",
       "    'score': 1.0000001},\n",
       "   {'document': {'documentParts': {'title': 'Entering the black box of neural networks.'}},\n",
       "    'id': '7da6505dfae0451f3379be6b534fb6af0575b80a',\n",
       "    'index': 'semanticscholar_cos',\n",
       "    'score': 0.90859485},\n",
       "   {'document': {'documentParts': {'title': 'Combining the Performance Strengths of the Logistic Regression and Neural Network Models: A Medical Outcomes Approach'}},\n",
       "    'id': 'bb94be56c28f8d16ddaf6abc0f0b021837478717',\n",
       "    'index': 'semanticscholar_cos',\n",
       "    'score': 0.9082638},\n",
       "   {'document': {'documentParts': {'title': 'SYSTEMS AND METHODS TO SUPPORT MEDICAL THERAPY DECISIONS'}},\n",
       "    'id': 'WO2017027432A1',\n",
       "    'index': 'wipo_cos',\n",
       "    'score': 0.87672776},\n",
       "   {'document': {'documentParts': {'title': 'SYSTEMS AND METHODS TO SUPPORT MEDICAL THERAPY DECISIONS'}},\n",
       "    'id': '20180168516',\n",
       "    'index': 'uspto_cos',\n",
       "    'score': 0.8709986},\n",
       "   {'document': {'documentParts': {'title': 'ARTIFICIAL NEURAL NETWORK FOR PREDICTING RESPIRATORY DISTURBANCES AND METHOD FOR DEVELOPING THE SAME'}},\n",
       "    'id': 'WO1999045452A2',\n",
       "    'index': 'wipo_cos',\n",
       "    'score': 0.8672115},\n",
       "   {'document': {'documentParts': {'title': 'Optimizing neural networks for risk assessment'}},\n",
       "    'id': '10133980',\n",
       "    'index': 'uspto_cos',\n",
       "    'score': 0.86661756},\n",
       "   {'document': {'documentParts': {'title': 'Knowledge-based interpretable predictive model for survival analysis'}},\n",
       "    'id': '08078554',\n",
       "    'index': 'uspto_cos',\n",
       "    'score': 0.8657595},\n",
       "   {'document': {'documentParts': {'title': 'SELF-EVOLVING PREDICTIVE MODEL'}},\n",
       "    'id': 'WO2014152395A1',\n",
       "    'index': 'wipo_cos',\n",
       "    'score': 0.86490107},\n",
       "   {'document': {'documentParts': {'title': 'OPTIMIZING NEURAL NETWORKS FOR RISK ASSESSMENT'}},\n",
       "    'id': 'EP21158394A1',\n",
       "    'index': 'epo_cos',\n",
       "    'score': 0.8550629},\n",
       "   {'document': {'documentParts': {'title': 'SYSTEM AND METHOD FOR PREDICTING THE RISK OF A PATIENT TO DEVELOP AN ATHEROSCLEROTIC CARDIOVASCULAR DISEASE'}},\n",
       "    'id': 'EP21191089A1',\n",
       "    'index': 'epo_cos',\n",
       "    'score': 0.8371776},\n",
       "   {'document': {'documentParts': {'title': 'CLINICAL PREDICTIVE ANALYTICS SYSTEM'}},\n",
       "    'id': 'EP20184263A1',\n",
       "    'index': 'epo_cos',\n",
       "    'score': 0.8364545}]}}"
      ]
     },
     "execution_count": 28,
     "metadata": {},
     "output_type": "execute_result"
    }
   ],
   "source": [
    "r.json()"
   ]
  },
  {
   "cell_type": "code",
   "execution_count": 35,
   "metadata": {},
   "outputs": [
    {
     "data": {
      "text/html": [
       "<div>\n",
       "<style scoped>\n",
       "    .dataframe tbody tr th:only-of-type {\n",
       "        vertical-align: middle;\n",
       "    }\n",
       "\n",
       "    .dataframe tbody tr th {\n",
       "        vertical-align: top;\n",
       "    }\n",
       "\n",
       "    .dataframe thead th {\n",
       "        text-align: right;\n",
       "    }\n",
       "</style>\n",
       "<table border=\"1\" class=\"dataframe\">\n",
       "  <thead>\n",
       "    <tr style=\"text-align: right;\">\n",
       "      <th></th>\n",
       "      <th>id</th>\n",
       "      <th>index</th>\n",
       "      <th>score</th>\n",
       "      <th>title</th>\n",
       "    </tr>\n",
       "  </thead>\n",
       "  <tbody>\n",
       "    <tr>\n",
       "      <th>1</th>\n",
       "      <td>7da6505dfae0451f3379be6b534fb6af0575b80a</td>\n",
       "      <td>semanticscholar_cos</td>\n",
       "      <td>0.908595</td>\n",
       "      <td>Entering the black box of neural networks.</td>\n",
       "    </tr>\n",
       "    <tr>\n",
       "      <th>2</th>\n",
       "      <td>bb94be56c28f8d16ddaf6abc0f0b021837478717</td>\n",
       "      <td>semanticscholar_cos</td>\n",
       "      <td>0.908264</td>\n",
       "      <td>Combining the Performance Strengths of the Log...</td>\n",
       "    </tr>\n",
       "    <tr>\n",
       "      <th>3</th>\n",
       "      <td>WO2017027432A1</td>\n",
       "      <td>wipo_cos</td>\n",
       "      <td>0.876728</td>\n",
       "      <td>SYSTEMS AND METHODS TO SUPPORT MEDICAL THERAPY...</td>\n",
       "    </tr>\n",
       "    <tr>\n",
       "      <th>4</th>\n",
       "      <td>20180168516</td>\n",
       "      <td>uspto_cos</td>\n",
       "      <td>0.870999</td>\n",
       "      <td>SYSTEMS AND METHODS TO SUPPORT MEDICAL THERAPY...</td>\n",
       "    </tr>\n",
       "    <tr>\n",
       "      <th>5</th>\n",
       "      <td>WO1999045452A2</td>\n",
       "      <td>wipo_cos</td>\n",
       "      <td>0.867212</td>\n",
       "      <td>ARTIFICIAL NEURAL NETWORK FOR PREDICTING RESPI...</td>\n",
       "    </tr>\n",
       "    <tr>\n",
       "      <th>6</th>\n",
       "      <td>10133980</td>\n",
       "      <td>uspto_cos</td>\n",
       "      <td>0.866618</td>\n",
       "      <td>Optimizing neural networks for risk assessment</td>\n",
       "    </tr>\n",
       "    <tr>\n",
       "      <th>7</th>\n",
       "      <td>08078554</td>\n",
       "      <td>uspto_cos</td>\n",
       "      <td>0.865760</td>\n",
       "      <td>Knowledge-based interpretable predictive model...</td>\n",
       "    </tr>\n",
       "    <tr>\n",
       "      <th>8</th>\n",
       "      <td>WO2014152395A1</td>\n",
       "      <td>wipo_cos</td>\n",
       "      <td>0.864901</td>\n",
       "      <td>SELF-EVOLVING PREDICTIVE MODEL</td>\n",
       "    </tr>\n",
       "    <tr>\n",
       "      <th>9</th>\n",
       "      <td>EP21158394A1</td>\n",
       "      <td>epo_cos</td>\n",
       "      <td>0.855063</td>\n",
       "      <td>OPTIMIZING NEURAL NETWORKS FOR RISK ASSESSMENT</td>\n",
       "    </tr>\n",
       "    <tr>\n",
       "      <th>10</th>\n",
       "      <td>EP21191089A1</td>\n",
       "      <td>epo_cos</td>\n",
       "      <td>0.837178</td>\n",
       "      <td>SYSTEM AND METHOD FOR PREDICTING THE RISK OF A...</td>\n",
       "    </tr>\n",
       "    <tr>\n",
       "      <th>11</th>\n",
       "      <td>EP20184263A1</td>\n",
       "      <td>epo_cos</td>\n",
       "      <td>0.836454</td>\n",
       "      <td>CLINICAL PREDICTIVE ANALYTICS SYSTEM</td>\n",
       "    </tr>\n",
       "  </tbody>\n",
       "</table>\n",
       "</div>"
      ],
      "text/plain": [
       "                                          id                index     score   \n",
       "1   7da6505dfae0451f3379be6b534fb6af0575b80a  semanticscholar_cos  0.908595  \\\n",
       "2   bb94be56c28f8d16ddaf6abc0f0b021837478717  semanticscholar_cos  0.908264   \n",
       "3                             WO2017027432A1             wipo_cos  0.876728   \n",
       "4                                20180168516            uspto_cos  0.870999   \n",
       "5                             WO1999045452A2             wipo_cos  0.867212   \n",
       "6                                   10133980            uspto_cos  0.866618   \n",
       "7                                   08078554            uspto_cos  0.865760   \n",
       "8                             WO2014152395A1             wipo_cos  0.864901   \n",
       "9                               EP21158394A1              epo_cos  0.855063   \n",
       "10                              EP21191089A1              epo_cos  0.837178   \n",
       "11                              EP20184263A1              epo_cos  0.836454   \n",
       "\n",
       "                                                title  \n",
       "1          Entering the black box of neural networks.  \n",
       "2   Combining the Performance Strengths of the Log...  \n",
       "3   SYSTEMS AND METHODS TO SUPPORT MEDICAL THERAPY...  \n",
       "4   SYSTEMS AND METHODS TO SUPPORT MEDICAL THERAPY...  \n",
       "5   ARTIFICIAL NEURAL NETWORK FOR PREDICTING RESPI...  \n",
       "6      Optimizing neural networks for risk assessment  \n",
       "7   Knowledge-based interpretable predictive model...  \n",
       "8                      SELF-EVOLVING PREDICTIVE MODEL  \n",
       "9      OPTIMIZING NEURAL NETWORKS FOR RISK ASSESSMENT  \n",
       "10  SYSTEM AND METHOD FOR PREDICTING THE RISK OF A...  \n",
       "11               CLINICAL PREDICTIVE ANALYTICS SYSTEM  "
      ]
     },
     "execution_count": 35,
     "metadata": {},
     "output_type": "execute_result"
    }
   ],
   "source": [
    "# prettify output\n",
    "results = r.json()[\"data\"][\"encodeDocumentAndSimilaritySearch\"]\n",
    "\n",
    "#  see above\n",
    "similar_docs = pd.DataFrame(results)\n",
    "keys = similar_docs[\"document\"][0][\"documentParts\"].keys() \n",
    "\n",
    "for k in keys:\n",
    "    similar_docs[k] = similar_docs[\"document\"].apply(lambda x: x[\"documentParts\"][k])\n",
    "\n",
    "\n",
    "# remove document\n",
    "del similar_docs[\"document\"]\n",
    "\n",
    "similar_docs.sort_values(\"score\", ascending=False)[1:]"
   ]
  },
  {
   "attachments": {},
   "cell_type": "markdown",
   "metadata": {},
   "source": [
    "# Get embedding vectors for multiple documents alread the database \n",
    "Provide mulitple IDs"
   ]
  },
  {
   "cell_type": "code",
   "execution_count": 30,
   "metadata": {},
   "outputs": [],
   "source": [
    "sample_ids = ['7233050d4e325d7ff70693af5e6234c4d3274e02', 'c12615777e76852b0ff2e7495efb19a806a02221']"
   ]
  },
  {
   "cell_type": "code",
   "execution_count": 36,
   "metadata": {},
   "outputs": [
    {
     "name": "stdout",
     "output_type": "stream",
     "text": [
      "[-1.784908, -3.624857, -0.9794372, 0.892107, 1.5166028, 0.08386493, 0.606217, -0.9956352, 1.4736364, 0.5631342]\n",
      "[-2.0602982, -1.2430692, -0.9919605, -0.15281165, 3.601084, 0.6789297, 1.5839859, -2.0787039, 0.9900625, 1.0501337]\n"
     ]
    }
   ],
   "source": [
    "URL = 'https://api.logic-mill.net/api/v1/graphql/'\n",
    "QUERY = \"\"\"\n",
    "query Document($data: [DatabaseSearchDocument]) {\n",
    "  Documents(data: $data) {\n",
    "    id\n",
    "    vector\n",
    "  }\n",
    "}\n",
    "\"\"\"\n",
    "\n",
    "data = [{\"index\": \"semanticscholar_cos\", \"id\": ss_id} for ss_id in sample_ids]\n",
    "variables = {\"data\": data}\n",
    "# send request\n",
    "r = requests.post(URL, headers = headers, json={'query': QUERY, 'variables': variables})\n",
    "for d in r.json()[\"data\"]['Documents']:\n",
    "    print(d[\"vector\"][:10])"
   ]
  }
 ],
 "metadata": {
  "kernelspec": {
   "display_name": "base",
   "language": "python",
   "name": "python3"
  },
  "language_info": {
   "codemirror_mode": {
    "name": "ipython",
    "version": 3
   },
   "file_extension": ".py",
   "mimetype": "text/x-python",
   "name": "python",
   "nbconvert_exporter": "python",
   "pygments_lexer": "ipython3",
   "version": "3.11.3"
  },
  "orig_nbformat": 4,
  "vscode": {
   "interpreter": {
    "hash": "3744b18ad8c2a2e6c4a2a2e39cc5003d2c784c9f9b67ead6ffb64492b6614e24"
   }
  }
 },
 "nbformat": 4,
 "nbformat_minor": 2
}
