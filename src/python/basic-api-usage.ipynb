{
 "cells": [
  {
   "cell_type": "markdown",
   "metadata": {},
   "source": [
    "# Basic Logic Mill API usage"
   ]
  },
  {
   "cell_type": "code",
   "execution_count": 1,
   "metadata": {},
   "outputs": [],
   "source": [
    "import pandas as pd\n",
    "import requests\n",
    "from dotenv import dotenv_values\n",
    "from requests.adapters import HTTPAdapter\n",
    "from urllib3.util import Retry\n",
    "\n",
    "# Load environment variables from .env file\n",
    "conf = dotenv_values()\n",
    "API_KEY = conf[\"API_KEY\"]\n",
    "\n",
    "# API documentation: https://api.logic-mill.net/api/v1/graph"
   ]
  },
  {
   "cell_type": "code",
   "execution_count": 2,
   "metadata": {},
   "outputs": [],
   "source": [
    "# Establish requests.Session for robust connection\n",
    "s = requests.Session()\n",
    "retries = Retry(total=5, backoff_factor=0.1,\n",
    "                status_forcelist=[500, 501, 502, 503, 504, 524])\n",
    "\n",
    "s.mount('https://', HTTPAdapter(max_retries=retries))\n",
    "\n",
    "URL = 'https://api.logic-mill.net/api/v1/graphql/'\n",
    "headers = {\n",
    "    'content-type': 'application/json',\n",
    "    'Authorization': 'Bearer ' + API_KEY,\n",
    "}"
   ]
  },
  {
   "cell_type": "markdown",
   "metadata": {},
   "source": [
    "# Get Information about Logic Mill API"
   ]
  },
  {
   "cell_type": "markdown",
   "metadata": {},
   "source": [
    "## Get the names of document sets (indices)\n",
    "https://api.logic-mill.net/api/v1/graph/?query=%7B%0A%20%20IndicesNames%20%7B%0A%20%20%20%20amountOfDocuments%0A%20%20%20%20name%0A%20%20%7D%0A%7D"
   ]
  },
  {
   "cell_type": "code",
   "execution_count": 3,
   "metadata": {},
   "outputs": [
    {
     "name": "stdout",
     "output_type": "stream",
     "text": [
      "{\n",
      "    \"data\": {\n",
      "        \"IndicesNames\": [\n",
      "            {\n",
      "                \"amountOfDocuments\": 64501832,\n",
      "                \"name\": \"patents_v2\"\n",
      "            },\n",
      "            {\n",
      "                \"amountOfDocuments\": 585730,\n",
      "                \"name\": \"upc_cases\"\n",
      "            },\n",
      "            {\n",
      "                \"amountOfDocuments\": 126918838,\n",
      "                \"name\": \"publications\"\n",
      "            }\n",
      "        ]\n",
      "    }\n",
      "}\n"
     ]
    }
   ],
   "source": [
    "query = \"\"\"{\n",
    "  IndicesNames {\n",
    "    amountOfDocuments\n",
    "    name\n",
    "  }\n",
    "}\"\"\"\n",
    "\n",
    "r = s.post(URL, json={'query': query})\n",
    "\n",
    "print(r.text)"
   ]
  },
  {
   "cell_type": "markdown",
   "metadata": {},
   "source": [
    "## Getting basic information from a document by using the document ID\n",
    "\n",
    "By changing the GraphQL query you can limit or extend which fields the server will retrieve for you.\n",
    "The full list can be found online: https://api.logic-mill.net/api/v1/graph"
   ]
  },
  {
   "cell_type": "code",
   "execution_count": 4,
   "metadata": {},
   "outputs": [
    {
     "name": "stdout",
     "output_type": "stream",
     "text": [
      "{\n",
      "    \"data\": {\n",
      "        \"Documents\": [\n",
      "            {\n",
      "                \"id\": \"W4313483528\",\n",
      "                \"title\": \"Logic Mill -- A Knowledge Navigation System\",\n",
      "                \"url\": \"https://openalex.org/works/W4313483528\"\n",
      "            },\n",
      "            {\n",
      "                \"id\": \"69888419\",\n",
      "                \"title\": \"ADVERTISING MEDIUM THAT REPEATS 5G TELEPHONE SIGNAL\",\n",
      "                \"url\": \"https://worldwide.espacenet.com/patent/search?q=US11394112B2\"\n",
      "            },\n",
      "            {\n",
      "                \"id\": \"69888419\",\n",
      "                \"title\": \"ADVERTISING MEDIUM THAT REPEATS 5G TELEPHONE SIGNAL\",\n",
      "                \"url\": \"https://worldwide.espacenet.com/patent/search?q=US11394112B2\"\n",
      "            }\n",
      "        ]\n",
      "    }\n",
      "}\n"
     ]
    }
   ],
   "source": [
    "# simple version\n",
    "query=\"\"\"\n",
    "query Documents($data: [DatabaseSearchDocument]) {\n",
    "  Documents(data: $data) {\n",
    "    id\n",
    "    title\n",
    "    url\n",
    "  }\n",
    "}\n",
    "\"\"\"\n",
    "variables = {\n",
    "  \"data\": [\n",
    "    {\n",
    "      \"id\": \"W4313483528\",\n",
    "      \"index\": \"publications\"\n",
    "     },\n",
    "    {\n",
    "      \"index\": \"patents\",\n",
    "      \"id\": \"US11394112B2\"\n",
    "    },\n",
    "    {\n",
    "      \"index\": \"patents\",\n",
    "      \"id\": \"69888419\"\n",
    "    }\n",
    "  ]\n",
    "}\n",
    "r = requests.post(URL, headers=headers, json={'query': query , 'variables': variables})\n",
    "\n",
    "if r.status_code == 200:\n",
    "    print(r.text)\n",
    "else:\n",
    "    print(r.text)\n",
    "    print(f\"Error executing\\n{query}\\non {url}\")"
   ]
  },
  {
   "cell_type": "markdown",
   "metadata": {},
   "source": [
    "## Info from the document\n",
    "\n",
    "To select specific items you have to use the keys in the dictionary\n"
   ]
  },
  {
   "cell_type": "code",
   "execution_count": 5,
   "metadata": {},
   "outputs": [
    {
     "name": "stdout",
     "output_type": "stream",
     "text": [
      "Title:\n",
      "Logic Mill -- A Knowledge Navigation System\n",
      "\n"
     ]
    }
   ],
   "source": [
    "data = r.json()['data']\n",
    "title = data['Documents'][0]['title']\n",
    "print(f\"Title:\\n{title}\\n\")"
   ]
  },
  {
   "cell_type": "markdown",
   "metadata": {},
   "source": [
    "## Get the numerical representiation/embedding\n",
    "\n",
    "Just add the fields you are interested in."
   ]
  },
  {
   "cell_type": "code",
   "execution_count": 6,
   "metadata": {},
   "outputs": [
    {
     "name": "stdout",
     "output_type": "stream",
     "text": [
      "W4313483528\n",
      "[-0.23040916, 0.09366139, -0.5264982, 0.35253185, -0.32284304, -1.2042444, 1.4183519, 0.85640496, -0.4407626, 0.8229229]\n",
      "69888419\n",
      "[-0.11776501, 0.25963417, 0.06177773, -0.84297, -1.0275449, -0.4726793, 0.28333065, 0.02848985, -0.8005307, -0.32174096]\n",
      "[0.26689774, 0.5151021, -0.23139937, 0.20953831, -0.031730473, -1.0606387, 1.2447457, 0.09842408, 0.19466443, 0.31455356]\n",
      "69888419\n",
      "[-0.11776501, 0.25963417, 0.06177773, -0.84297, -1.0275449, -0.4726793, 0.28333065, 0.02848985, -0.8005307, -0.32174096]\n",
      "[0.26689774, 0.5151021, -0.23139937, 0.20953831, -0.031730473, -1.0606387, 1.2447457, 0.09842408, 0.19466443, 0.31455356]\n"
     ]
    }
   ],
   "source": [
    "query=\"\"\"\n",
    "query Documents($data: [DatabaseSearchDocument]) {\n",
    "  Documents(data: $data) {\n",
    "    id\n",
    "    PatspecterEmbedding\n",
    "    PaecterEmbedding\n",
    "  }\n",
    "}\n",
    "\"\"\"\n",
    "# same documents as above\n",
    "r = requests.post(URL, headers=headers, json={'query': query , 'variables': variables})\n",
    "data = r.json()['data']['Documents']\n",
    "for entry in data:\n",
    "    print(entry[\"id\"])\n",
    "    if entry[\"PaecterEmbedding\"]:  # publications do not have PaECTER embeddings\n",
    "        print(entry[\"PaecterEmbedding\"][:10])\n",
    "    print(entry[\"PatspecterEmbedding\"][:10])"
   ]
  },
  {
   "cell_type": "markdown",
   "metadata": {},
   "source": [
    "## Search _n_ most similar documents compared to a document in the database"
   ]
  },
  {
   "cell_type": "code",
   "execution_count": 7,
   "metadata": {},
   "outputs": [
    {
     "name": "stdout",
     "output_type": "stream",
     "text": [
      "{'document': {'doi': 'https://doi.org/10.17816/0321-4443-66244', 'title': 'SPECIAL CHARACTERISTICS OF GLEANER COMBINE HARVESTERS'}, 'id': 'W3169719195', 'index': 'publications', 'score': 0.97302663}\n",
      "{'document': {'doi': 'https://doi.org/10.13031/2013.35039', 'title': 'A Wheel Elevator for Sugar Beet Harvesters'}, 'id': 'W2016749744', 'index': 'publications', 'score': 0.97295034}\n",
      "{'document': {'doi': '', 'title': 'Stepwise Construction of the Dedekind-MacNeille Completion (Research Note)'}, 'id': 'W1501118946', 'index': 'publications', 'score': 0.9728551}\n",
      "{'document': {'doi': '', 'title': 'Stochastic Models of Control and Economic Dynamics'}, 'id': 'W1588789815', 'index': 'publications', 'score': 0.97222877}\n",
      "{'document': {'doi': '', 'title': 'Diseño y simulación de un dispositivo vibrador multidireccional para cosechar capulí.'}, 'id': 'W3162661967', 'index': 'publications', 'score': 0.971483}\n",
      "{'document': {'doi': 'https://doi.org/10.17816/0321-4443-66374', 'title': 'Methods and devices for processing the stemstock of cereal crops harvested using combine stripper harvester technology'}, 'id': 'W4289387989', 'index': 'publications', 'score': 0.9712968}\n"
     ]
    }
   ],
   "source": [
    "n = 5\n",
    "\n",
    "query=\"\"\"query SimilaritySearch($index: String!, $id: String!, $amount: Int, $indices: [String], $model: String!) {\n",
    "  SimilaritySearch(\n",
    "    index: $index\n",
    "    id: $id\n",
    "    amount: $amount\n",
    "    indices: $indices\n",
    "    model: $model\n",
    "  ) {\n",
    "    id\n",
    "    score\n",
    "    index\n",
    "    document {\n",
    "      title\n",
    "      doi\n",
    "    }\n",
    "  }\n",
    "}\n",
    "\"\"\"\n",
    "\n",
    "variables={\n",
    "  \"model\": \"patspecter\",\n",
    "  \"amount\": n+1,\n",
    "  \"id\": \"91081326\",\n",
    "  \"index\": \"patents\",\n",
    "  \"indices\": [\n",
    "    \"publications\"\n",
    "  ]\n",
    "}\n",
    "\n",
    "r = requests.post(URL, headers=headers, json={'query': query, 'variables': variables})\n",
    "\n",
    "if r.status_code == 200:\n",
    "    # results = r.json()\n",
    "    results = r.json()['data']['SimilaritySearch']\n",
    "    for i in results:\n",
    "        print(i)\n",
    "else:\n",
    "    print(f\"Error executing\\n{query}\\non {url}\")"
   ]
  },
  {
   "cell_type": "markdown",
   "metadata": {},
   "source": [
    "`id` and `score` at the top of the hierarchy and can be used directly. Within `document` contains the other relevant information. "
   ]
  },
  {
   "cell_type": "code",
   "execution_count": 8,
   "metadata": {},
   "outputs": [
    {
     "data": {
      "text/html": [
       "<div>\n",
       "<style scoped>\n",
       "    .dataframe tbody tr th:only-of-type {\n",
       "        vertical-align: middle;\n",
       "    }\n",
       "\n",
       "    .dataframe tbody tr th {\n",
       "        vertical-align: top;\n",
       "    }\n",
       "\n",
       "    .dataframe thead th {\n",
       "        text-align: right;\n",
       "    }\n",
       "</style>\n",
       "<table border=\"1\" class=\"dataframe\">\n",
       "  <thead>\n",
       "    <tr style=\"text-align: right;\">\n",
       "      <th></th>\n",
       "      <th>id</th>\n",
       "      <th>index</th>\n",
       "      <th>score</th>\n",
       "      <th>doi</th>\n",
       "      <th>title</th>\n",
       "    </tr>\n",
       "  </thead>\n",
       "  <tbody>\n",
       "    <tr>\n",
       "      <th>0</th>\n",
       "      <td>W3169719195</td>\n",
       "      <td>publications</td>\n",
       "      <td>0.973027</td>\n",
       "      <td>https://doi.org/10.17816/0321-4443-66244</td>\n",
       "      <td>SPECIAL CHARACTERISTICS OF GLEANER COMBINE HAR...</td>\n",
       "    </tr>\n",
       "    <tr>\n",
       "      <th>1</th>\n",
       "      <td>W2016749744</td>\n",
       "      <td>publications</td>\n",
       "      <td>0.972950</td>\n",
       "      <td>https://doi.org/10.13031/2013.35039</td>\n",
       "      <td>A Wheel Elevator for Sugar Beet Harvesters</td>\n",
       "    </tr>\n",
       "    <tr>\n",
       "      <th>2</th>\n",
       "      <td>W1501118946</td>\n",
       "      <td>publications</td>\n",
       "      <td>0.972855</td>\n",
       "      <td></td>\n",
       "      <td>Stepwise Construction of the Dedekind-MacNeill...</td>\n",
       "    </tr>\n",
       "    <tr>\n",
       "      <th>3</th>\n",
       "      <td>W1588789815</td>\n",
       "      <td>publications</td>\n",
       "      <td>0.972229</td>\n",
       "      <td></td>\n",
       "      <td>Stochastic Models of Control and Economic Dyna...</td>\n",
       "    </tr>\n",
       "    <tr>\n",
       "      <th>4</th>\n",
       "      <td>W3162661967</td>\n",
       "      <td>publications</td>\n",
       "      <td>0.971483</td>\n",
       "      <td></td>\n",
       "      <td>Diseño y simulación de un dispositivo vibrador...</td>\n",
       "    </tr>\n",
       "    <tr>\n",
       "      <th>5</th>\n",
       "      <td>W4289387989</td>\n",
       "      <td>publications</td>\n",
       "      <td>0.971297</td>\n",
       "      <td>https://doi.org/10.17816/0321-4443-66374</td>\n",
       "      <td>Methods and devices for processing the stemsto...</td>\n",
       "    </tr>\n",
       "  </tbody>\n",
       "</table>\n",
       "</div>"
      ],
      "text/plain": [
       "            id         index     score  \\\n",
       "0  W3169719195  publications  0.973027   \n",
       "1  W2016749744  publications  0.972950   \n",
       "2  W1501118946  publications  0.972855   \n",
       "3  W1588789815  publications  0.972229   \n",
       "4  W3162661967  publications  0.971483   \n",
       "5  W4289387989  publications  0.971297   \n",
       "\n",
       "                                        doi  \\\n",
       "0  https://doi.org/10.17816/0321-4443-66244   \n",
       "1       https://doi.org/10.13031/2013.35039   \n",
       "2                                             \n",
       "3                                             \n",
       "4                                             \n",
       "5  https://doi.org/10.17816/0321-4443-66374   \n",
       "\n",
       "                                               title  \n",
       "0  SPECIAL CHARACTERISTICS OF GLEANER COMBINE HAR...  \n",
       "1         A Wheel Elevator for Sugar Beet Harvesters  \n",
       "2  Stepwise Construction of the Dedekind-MacNeill...  \n",
       "3  Stochastic Models of Control and Economic Dyna...  \n",
       "4  Diseño y simulación de un dispositivo vibrador...  \n",
       "5  Methods and devices for processing the stemsto...  "
      ]
     },
     "metadata": {},
     "output_type": "display_data"
    }
   ],
   "source": [
    "df = pd.DataFrame(results)\n",
    "df = df.join(pd.json_normalize(df['document']))\n",
    "df = df.drop(columns=\"document\")\n",
    "display(df)"
   ]
  },
  {
   "cell_type": "markdown",
   "metadata": {},
   "source": [
    "## Create a new embedding for a user document"
   ]
  },
  {
   "cell_type": "markdown",
   "metadata": {},
   "source": [
    "We use the `encodeDocuments` endpoint. \n",
    "\n",
    "\n",
    "The data variable has the following form (`EncodeObject`):\n",
    "\n",
    "```\n",
    "  \"data\": [\n",
    "    {\n",
    "      \"id\": \"trade_resolutions_pat\",\n",
    "      \"parts\": [\n",
    "        {\n",
    "          \"key\": \"title\",\n",
    "          \"value\": \"d\"\n",
    "        },\n",
    "        {\n",
    "          \"key\": \"abstract\",\n",
    "          \"value\": \"An electronic trading system utilizes....\"\n",
    "        }\n",
    "      ]\n",
    "    },\n",
    "```\n",
    "The `id` is for identification purposes and can be any number.\n",
    "\n",
    "Many time we may have the data available in some datastructure (CSV, Excel file, dictionary). In the following example we will use a dictionary."
   ]
  },
  {
   "cell_type": "code",
   "execution_count": 9,
   "metadata": {},
   "outputs": [
    {
     "data": {
      "text/html": [
       "<div>\n",
       "<style scoped>\n",
       "    .dataframe tbody tr th:only-of-type {\n",
       "        vertical-align: middle;\n",
       "    }\n",
       "\n",
       "    .dataframe tbody tr th {\n",
       "        vertical-align: top;\n",
       "    }\n",
       "\n",
       "    .dataframe thead th {\n",
       "        text-align: right;\n",
       "    }\n",
       "</style>\n",
       "<table border=\"1\" class=\"dataframe\">\n",
       "  <thead>\n",
       "    <tr style=\"text-align: right;\">\n",
       "      <th></th>\n",
       "      <th>id</th>\n",
       "      <th>title</th>\n",
       "      <th>abstract</th>\n",
       "    </tr>\n",
       "  </thead>\n",
       "  <tbody>\n",
       "    <tr>\n",
       "      <th>0</th>\n",
       "      <td>ML001</td>\n",
       "      <td>Towards A Rigorous Science of Interpretable Ma...</td>\n",
       "      <td>As machine learning systems become ubiquitous,...</td>\n",
       "    </tr>\n",
       "    <tr>\n",
       "      <th>1</th>\n",
       "      <td>ML002</td>\n",
       "      <td>Machine Learning Interpretability: A Science r...</td>\n",
       "      <td>The term \"interpretability\" is oftenly used by...</td>\n",
       "    </tr>\n",
       "    <tr>\n",
       "      <th>2</th>\n",
       "      <td>ML003</td>\n",
       "      <td>Opening the black box of neural networks: meth...</td>\n",
       "      <td>Artificial neural networks (ANNs) are powerful...</td>\n",
       "    </tr>\n",
       "  </tbody>\n",
       "</table>\n",
       "</div>"
      ],
      "text/plain": [
       "      id                                              title  \\\n",
       "0  ML001  Towards A Rigorous Science of Interpretable Ma...   \n",
       "1  ML002  Machine Learning Interpretability: A Science r...   \n",
       "2  ML003  Opening the black box of neural networks: meth...   \n",
       "\n",
       "                                            abstract  \n",
       "0  As machine learning systems become ubiquitous,...  \n",
       "1  The term \"interpretability\" is oftenly used by...  \n",
       "2  Artificial neural networks (ANNs) are powerful...  "
      ]
     },
     "execution_count": 9,
     "metadata": {},
     "output_type": "execute_result"
    }
   ],
   "source": [
    "# our data\n",
    "\n",
    "biblios = [{\n",
    "    \"id\": \"ML001\",\n",
    "    \"title\" : \"Towards A Rigorous Science of Interpretable Machine Learning\",\n",
    "    \"abstract\" : \"As machine learning systems become ubiquitous, there has been a surge of interest in interpretable machine learning: systems that provide explanation for their outputs. These explanations are often used to qualitatively assess other criteria such as safety or non-discrimination. However, despite the interest in interpretability, there is very little consensus on what interpretable machine learning is and how it should be measured. In this position paper, we first define interpretability and describe when interpretability is needed (and when it is not). Next, we suggest a taxonomy for rigorous evaluation and expose open questions towards a more rigorous science of interpretable machine learning.\"\n",
    "} , {\n",
    "    \"id\": \"ML002\",\n",
    "    \"title\": \"Machine Learning Interpretability: A Science rather than a tool\",\n",
    "    \"abstract\": \"\"\"The term \"interpretability\" is oftenly used by machine learning researchers each with their own intuitive understanding of it. There is no universal well agreed upon definition of interpretability in machine learning. As any type of science discipline is mainly driven by the set of formulated questions rather than by different tools in that discipline, e.g. astrophysics is the discipline that learns the composition of stars, not as the discipline that use the spectroscopes. Similarly, we propose that machine learning interpretability should be a discipline that answers specific questions related to interpretability. These questions can be of statistical, causal and counterfactual nature. Therefore, there is a need to look into the interpretability problem of machine learning in the context of questions that need to be addressed rather than different tools. We discuss about a hypothetical interpretability framework driven by a question based scientific approach rather than some specific machine learning model. Using a question based notion of interpretability, we can step towards understanding the science of machine learning rather than its engineering. This notion will also help us understanding any specific problem more in depth rather than relying solely on machine learning methods\"\"\"\n",
    "}, {\n",
    "    \"id\": \"ML003\",\n",
    "    \"title\": \"Opening the black box of neural networks: methods for interpreting neural network models in clinical applications\",\n",
    "    \"abstract\": \"\"\"Artificial neural networks (ANNs) are powerful tools for data analysis and are particularly suitable for modeling relationships between variables for best prediction of an outcome. While these models can be used to answer many important research questions, their utility has been critically limited because the interpretation of the \"black box\" model is difficult. Clinical investigators usually employ ANN models to predict the clinical outcomes or to make a diagnosis; the model however is difficult to interpret for clinicians. To address this important shortcoming of neural network modeling methods, we describe several methods to help subject-matter audiences (e.g., clinicians, medical policy makers) understand neural network models. Garson's algorithm describes the relative magnitude of the importance of a descriptor (predictor) in its connection with outcome variables by dissecting the model weights. The Lek's profile method explores the relationship of the outcome variable and a predictor of interest, while holding other predictors at constant values (e.g., minimum, 20th quartile, maximum). While Lek's profile was developed specifically for neural networks, partial dependence plot is a more generic version that visualize the relationship between an outcome and one or two predictors. Finally, the local interpretable model-agnostic explanations (LIME) method can show the predictions of any classification or regression, by approximating it locally with an interpretable model. R code for the implementations of these methods is shown by using example data fitted with a standard, feed-forward neural network model. We offer codes and step-by-step description on how to use these tools to facilitate better understanding of ANN\"\"\"\n",
    "}]\n",
    "\n",
    "pd.DataFrame(biblios)"
   ]
  },
  {
   "cell_type": "markdown",
   "metadata": {},
   "source": [
    "We wish to encode the first item"
   ]
  },
  {
   "cell_type": "code",
   "execution_count": 10,
   "metadata": {},
   "outputs": [],
   "source": [
    "# take the first record\n",
    "biblio = biblios[0]"
   ]
  },
  {
   "cell_type": "code",
   "execution_count": 11,
   "metadata": {},
   "outputs": [
    {
     "data": {
      "text/plain": [
       "{'id': 'ML001',\n",
       " 'parts': [{'key': 'title',\n",
       "   'value': 'Towards A Rigorous Science of Interpretable Machine Learning'},\n",
       "  {'key': 'abstract',\n",
       "   'value': 'As machine learning systems become ubiquitous, there has been a surge of interest in interpretable machine learning: systems that provide explanation for their outputs. These explanations are often used to qualitatively assess other criteria such as safety or non-discrimination. However, despite the interest in interpretability, there is very little consensus on what interpretable machine learning is and how it should be measured. In this position paper, we first define interpretability and describe when interpretability is needed (and when it is not). Next, we suggest a taxonomy for rigorous evaluation and expose open questions towards a more rigorous science of interpretable machine learning.'}]}"
      ]
     },
     "execution_count": 11,
     "metadata": {},
     "output_type": "execute_result"
    }
   ],
   "source": [
    "# prepare the data\n",
    "\n",
    "data = {\"id\": biblio['id'], \"parts\":[]}\n",
    "# create the key value pairs; (a more direct way of doing this is also possible)\n",
    "data[\"parts\"] = [{\"key\": k, \"value\":v} for k,v in biblio.items() if k!='id']\n",
    "data\n"
   ]
  },
  {
   "cell_type": "code",
   "execution_count": 12,
   "metadata": {},
   "outputs": [],
   "source": [
    "# add to the variables dictionary\n",
    "variables = {\"data\" : [data]}"
   ]
  },
  {
   "cell_type": "code",
   "execution_count": 13,
   "metadata": {},
   "outputs": [
    {
     "data": {
      "text/plain": [
       "{'data': [{'id': 'ML001',\n",
       "   'parts': [{'key': 'title',\n",
       "     'value': 'Towards A Rigorous Science of Interpretable Machine Learning'},\n",
       "    {'key': 'abstract',\n",
       "     'value': 'As machine learning systems become ubiquitous, there has been a surge of interest in interpretable machine learning: systems that provide explanation for their outputs. These explanations are often used to qualitatively assess other criteria such as safety or non-discrimination. However, despite the interest in interpretability, there is very little consensus on what interpretable machine learning is and how it should be measured. In this position paper, we first define interpretability and describe when interpretability is needed (and when it is not). Next, we suggest a taxonomy for rigorous evaluation and expose open questions towards a more rigorous science of interpretable machine learning.'}]}],\n",
       " 'model': 'patspecter'}"
      ]
     },
     "execution_count": 13,
     "metadata": {},
     "output_type": "execute_result"
    }
   ],
   "source": [
    "# We need to add the model\n",
    "variables['model']=\"patspecter\"\n",
    "variables"
   ]
  },
  {
   "cell_type": "code",
   "execution_count": 14,
   "metadata": {},
   "outputs": [],
   "source": [
    "# prepare query with\n",
    "query=\"\"\"\n",
    "query encodeDocuments($data: [EncodeObject], $model: String!) {\n",
    "  encodeDocuments(data: $data, model: $model)\n",
    "}\n",
    "\"\"\""
   ]
  },
  {
   "cell_type": "code",
   "execution_count": 15,
   "metadata": {},
   "outputs": [
    {
     "name": "stdout",
     "output_type": "stream",
     "text": [
      "{'data': {'encodeDocuments': [[-0.15173213, 0.39466915, -0.26544675, 0.1092064, -0.097115465, -1.2353461, 1.3304781, 0.70219463, -0.06913787, 0.3280643, 0.15932687, -0.23166955, -0.37336734, -0.3493267, -0.5799768, 0.075430065, -0.2885678, 0.50012237, -0.40116823, -0.2272772, 0.4327774, 0.19313827, -0.62526125, 0.3533519, 0.6597146, 0.55982786, -0.20348778, 1.0925517, 0.07548555, 0.95632106, 0.6006828, -0.7990245, 0.36585793, 0.08133721, -0.88682884, 0.035699174, 0.35787007, -0.6586926, -0.96956295, 0.6702604, -0.5663672, 0.15465163, 0.8242074, -1.5030347, -0.3781958, 1.1294978, -0.12525551, 0.7187593, -0.18786238, -0.011435427, 1.1182588, -1.27731, 0.6875963, 1.0919564, 0.45729992, 0.52055216, -0.87896144, -0.81807554, 1.0895197, 0.2811168, -0.91285336, 0.32776853, 0.18254817, -1.3118012, 1.5330341, -0.013770792, 0.10494889, 0.2914862, 0.18329017, 1.1091548, 0.9763152, -0.3220751, 0.31508708, 0.3901258, 1.6321836, 0.54006624, -0.47993678, 0.90476996, -0.5797334, -0.08604169, -0.508257, -0.010270868, 0.782929, -0.28961563, -1.0614855, 0.8158679, 0.33777446, 0.51355994, 0.6069381, 1.0756879, 0.32553253, 0.7776904, -0.124623425, -0.11285057, -1.0911669, 0.6526717, -1.1102153, -0.052684743, -0.29415146, 0.7361324, 0.06795152, 0.31611475, -0.7377055, -0.07452176, 1.7193469, 0.33809435, 0.9267623, -1.2901278, -0.28395474, 0.38309172, -0.44981244, -0.9544123, -0.029455362, -1.1145725, -1.0319885, -0.8088815, 0.11582265, 0.63526344, -0.48442885, 1.352866, -0.088190004, -0.42799503, -0.19097102, 0.6898375, 0.74731684, -0.011695568, -0.26630554, 0.48830733, 0.7471658, -0.3361139, -0.2915323, -1.2553716, 0.42470345, -0.16148552, 0.60745955, 0.5623256, -0.59629554, -1.1269526, -1.3868893, 0.4950522, -0.7942043, 0.27396733, 1.4217087, 1.3389189, -0.6883756, 0.49840719, -0.71711844, -0.7914372, 0.94948286, 0.20340706, -0.053357508, -0.29258433, -0.8704261, 0.9250132, 0.58693767, -0.5703703, -1.035397, 0.015751489, -1.2767246, 0.071790226, 0.49115416, -0.59821945, 1.5096644, -1.2941222, -0.97279114, 0.3994889, 0.5409641, -0.36024737, 0.687251, 0.4615651, -0.23307277, -0.11999597, -0.23407146, 0.67718244, 0.45288274, -0.48483273, -0.55298215, -0.9146623, -0.55403465, 0.113516144, -0.8650845, 0.8313812, 0.7554909, -0.340867, 0.15376875, -0.86788106, -0.2524753, -0.36801204, -0.67828804, -0.32077414, 1.1607795, -0.71811104, 0.5061168, -1.3955519, -0.6372745, 0.13651833, -0.10093491, -0.4812335, -0.4995928, 0.41432062, -0.40529203, 0.75368315, -0.8057789, -1.5570445, -0.44267744, -0.01758815, -1.2268671, -0.020311717, 0.021279132, 0.5605355, -1.5428026, -0.00865687, 0.32574365, 0.16403715, -0.37295067, 0.74438834, 0.12822418, 0.42491353, -0.1783086, 0.2082489, 0.68903774, -0.114753395, 0.5735682, 0.41101485, 0.022122245, 0.71751845, -1.1817088, 1.0916221, -0.14918411, 0.26995346, -0.5058235, -1.2050272, 0.05919502, 0.6440862, -0.53920275, -0.34039563, 1.0103668, -0.7102477, -0.9206213, -0.0069540357, -0.044428002, 0.9808225, -0.50357676, 0.4172496, 0.5904635, -0.34717485, 0.15583958, 0.8424722, 1.0988979, 0.7972847, 1.1174613, 0.3846624, 0.23878105, -0.27743405, 0.2655497, 1.3554838, 0.8384121, 0.7152993, 1.2222799, -0.7142147, -0.24187477, -0.77194774, 0.44726998, 1.3334689, -0.5964408, -0.3604491, -0.0718931, -1.314632, -0.7750569, 0.7096316, 0.16511416, 0.0504525, -0.16455065, -0.8349768, 0.95281905, 0.55311656, 1.385915, -0.8819828, -0.23407413, -1.0038693, 0.055068515, -1.1996363, 0.28576112, 0.26003805, -0.8964514, -0.6074455, 1.157049, -0.06989991, 0.88961166, -0.9554595, 0.89407945, -0.5019452, -0.32229552, 0.6995974, 0.38288134, -0.37985843, -0.74324024, -0.25107807, 0.22039644, -0.48529488, 0.035749342, -0.26419356, 0.061663568, 0.47000575, -1.0346432, 0.596719, 0.45815638, 0.6826168, 0.7863344, -0.28213355, 0.8213367, -0.71304363, 0.68241215, -0.8987611, -0.40181008, 0.35030627, -1.247627, -0.65033996, 1.1007892, -0.494818, -0.35880208, -0.13137583, 0.19055212, -0.7444101, -0.59442675, 0.6520077, 0.11621951, 0.49600363, 0.016420634, -0.02413401, -0.07947226, -0.3408532, 0.3317973, 0.31464657, 0.74548835, 0.44337988, 0.68225324, 0.083858825, 0.48384964, -0.8537968, -0.48938164, 0.12286298, -0.10550846, -0.43835703, 0.39029887, -0.8096047, -0.35141954, -0.34641108, -0.698115, -0.42898595, -0.26414615, 0.8652091, -0.8619304, 0.16975279, -0.95884573, -1.2311292, -0.60241926, -0.45284832, 0.42114475, -0.14496158, -0.94241226, -0.575088, 0.70253617, 0.38990054, 0.6798819, 0.43260643, 1.1345041, -0.77839655, 0.34073552, -0.6650735, 0.4974827, 0.40576392, -0.8168374, 0.71235245, -0.91554415, -0.38346523, 0.13637483, -1.0180515, 0.7145735, 0.4573213, 1.0017968, -0.63909566, -0.30123085, -0.013506557, 1.3947694, -0.799864, -0.12320944, -0.32421002, 0.58213997, 0.44511592, 0.73023164, 0.1370951, -0.11212998, 0.6652164, 0.3296962, 0.50335306, 0.5667233, -0.32065386, 1.2810452, 0.59133756, 1.0670112, 0.44956267, -1.6958184, 0.16637759, -1.99684, -1.5151658, 0.5691302, 0.8074565, 0.12372358, 0.2264959, -0.08048171, 0.7735874, 0.7066334, -0.9313664, 0.19342005, -0.02527126, -0.018559925, -0.061557315, -0.0027170083, 1.1053898, -0.826129, 0.4880253, 10.689091, 0.64976436, -0.46686563, 0.9254914, 1.2421042, -0.060946148, -0.5140635, 0.5986061, -0.69338804, -0.14568898, 0.7304899, 0.626986, 0.71814746, 1.3684152, 0.10640064, -0.114127494, -1.0862669, 0.6149564, 0.34614944, -0.729732, -0.4034142, -0.24669935, 0.7882266, 1.5193472, 0.9114512, 0.95492285, 0.715474, -0.40641752, 1.1742764, -0.07553002, 0.82081854, -0.8124988, 0.8800909, 1.2336593, -0.70683557, -0.5491116, -0.6136475, -1.0249884, -0.14574608, 0.5769859, -1.8704469, 0.3197873, 0.303491, 0.48016864, -1.1068137, -0.21990715, -0.23056866, 0.2206737, -0.92494977, -0.2518949, -0.61690265, 0.6982413, 0.6849977, 0.66359824, -0.29159865, -0.4449329, -0.10269893, 0.928293, 0.16964057, -0.34475368, -0.46179497, -1.0845958, 0.112371504, 1.183398, -0.027766868, 0.019284613, -0.06982522, 0.66857815, 0.619322, 0.6591286, -0.46258268, 0.48294562, 0.4437372, -0.34617308, 0.09024986, -0.19268122, -0.9384187, -0.89371645, -0.6273799, -0.71833426, 1.2122825, -0.62088466, -1.3884476, 0.9049595, -0.22568618, -1.0684886, -0.75522494, -0.9531702, -0.54295117, 0.9001923, -1.4574453, -1.6189909, -0.1036968, 0.29778078, 0.249819, 0.47223285, 0.6607609, -1.2121702, -0.24335182, 0.1414356, 0.089075334, -0.24739519, 0.5512205, -1.0429127, 0.44953194, 0.3614106, -0.23716645, 0.73506665, 0.10259905, -0.91985023, -0.84691, -0.33046752, 0.27557474, -1.0790567, 0.15904331, -0.43433958, -0.83735764, 1.2795198, 0.17101942, -0.13033216, 1.0246142, 0.16473207, -0.33297777, 0.64844567, -1.2291688, 0.16022576, 0.76818204, -0.35395664, -1.1019034, 0.5671026, 0.517283, -0.2412218, -0.07749861, 0.5387836, 0.5199005, -1.3090286, 0.87819123, -1.7157488, 0.37534735, 0.43000948, -0.10890504, -0.9553938, -0.22986522, 0.014100805, 0.2455037, 0.39190754, 0.45669124, -0.44374087, 0.32932174, 0.2752437, -0.20646907, -0.36944607, -0.8450182, 0.015216955, 0.6743075, -0.52842355, 0.48514834, 1.1150175, 0.8494369, 0.46603972, -0.2429294, 0.89464056, 0.14661518, -0.18486659, 0.64695823, -0.8590717, -1.1183145, -0.194828, -0.67367876, -0.92763793, 0.16277261, -1.103716, -0.5183143, -1.1820664, 0.22180447, 0.38453886, -1.0896162, 0.29037678, 0.07630792, -0.14742316, -0.56519634, 0.15748565, -0.61210114, 0.6927382, 0.44985265, -0.15319055, -0.6669592, 0.20649149, 0.023198897, 0.72217697, 0.7676863, -0.7491172, -0.98490506, -0.9493435, 0.81066716, 0.7052962, -0.18725735, -0.41266587, 0.6370791, -0.43555412, 0.62174994, -0.28783813, 0.7605888, -0.640789, 0.23804334, 0.858713, -0.7533578, -0.09410783, 0.43455303, 0.27913573, -0.2519026, 0.21911412, -0.5075184, 0.1863733, -0.7334684, 0.17090917, -0.9178272, -0.13444966, 0.08844824, -0.8673469, -0.48619205, -1.0617844, -0.6193455, 0.5523781, -0.25477234, 0.6940841, 0.76229787, -1.2088162, -0.6629696, 0.4958103, 1.1402426, -0.7691292, 0.58228827, 0.9531981, -0.49255636, -0.15220551, 0.6301186, -0.04897463, -1.802233, -0.033183973, 0.5137757, -0.25011042, -0.19022062, 0.5698436, -0.56140524, -1.3105712, 0.06076389, -0.4426993, -1.2666373, 0.020340743, 0.6950975, 0.2298126, 0.09218934, 0.114012845, -0.31723422, -0.3511293, 0.08155073, -0.48982126, 0.8110297, -0.2002965, 0.09602462, 0.4218879, 0.46490178, -0.3488306, -0.9977982, -0.13671902, 0.22570865, -0.89763755, 0.595875, -0.95020497, -0.45630366, 0.7862316, 1.2567383, 0.5695997, 0.7098403, -0.12858368, -0.06609058, 0.9230319, 0.460868, -0.8482099, 0.1523134, 1.4461775, 0.6585808, -1.6207339, -0.7931008, 0.19672503, -0.7975667, 1.0647913, 0.24844928, 0.65209293, 0.23117647, -0.38001403, -0.8257908, -0.07882666, -0.83113694, 0.26003692, 0.74305594, 0.44499144, 0.06419586, 0.14364365, -0.36816174, 1.5053416, -0.35083586, 0.18635805, 0.7377017, 0.6203932, 0.47715962, -0.55530375, 0.38416937, 0.8712981, -1.0622123, -0.74937016, -0.99511117, 0.6439268, -0.3029659, 0.8121711, 1.0416968, -0.50548154, -0.030571345, 0.5498942, 0.17471552, -0.8831743, -1.2157711, -0.13947001, -0.08858232, -0.82735246, 0.5518294, -0.85897833, -0.5136958, -0.89288324, -0.8557659, -0.33255535, 0.8677998, 1.3546644, 0.42285904, -0.29911909, 0.17381422, 0.315714, -0.9248372, -1.5356015, -0.27662766, -0.8526488, -0.37156862, -0.3926603, -1.2429446, -0.5778994]]}}\n"
     ]
    }
   ],
   "source": [
    "r = s.post(URL, headers=headers, json={'query': query , 'variables': variables})\n",
    "\n",
    "if r.status_code == 200:\n",
    "    response = r.json()\n",
    "    print(response)"
   ]
  },
  {
   "cell_type": "markdown",
   "metadata": {},
   "source": [
    "## Create embedding for multiple documents\n",
    "\n",
    "We use a similar setup as with one document but in a loop with multiple API calls\n"
   ]
  },
  {
   "cell_type": "code",
   "execution_count": 16,
   "metadata": {},
   "outputs": [
    {
     "data": {
      "text/html": [
       "<div>\n",
       "<style scoped>\n",
       "    .dataframe tbody tr th:only-of-type {\n",
       "        vertical-align: middle;\n",
       "    }\n",
       "\n",
       "    .dataframe tbody tr th {\n",
       "        vertical-align: top;\n",
       "    }\n",
       "\n",
       "    .dataframe thead th {\n",
       "        text-align: right;\n",
       "    }\n",
       "</style>\n",
       "<table border=\"1\" class=\"dataframe\">\n",
       "  <thead>\n",
       "    <tr style=\"text-align: right;\">\n",
       "      <th></th>\n",
       "    </tr>\n",
       "  </thead>\n",
       "  <tbody>\n",
       "  </tbody>\n",
       "</table>\n",
       "</div>"
      ],
      "text/plain": [
       "Empty DataFrame\n",
       "Columns: []\n",
       "Index: []"
      ]
     },
     "execution_count": 16,
     "metadata": {},
     "output_type": "execute_result"
    }
   ],
   "source": [
    "query = \"\"\"mutation ($data:LmDocumentMutationObject) {\n",
    "  embedDocument(data: $data)\n",
    "}\"\"\"\n",
    "\n",
    "df = pd.DataFrame()\n",
    "for biblio in biblios:\n",
    "    data = {\"id\": biblio['id']}\n",
    "    data[\"parts\"] = [{\"key\": k, \"value\":v} for k,v in biblio.items() if k!='id']\n",
    "    variables = {\"data\" : data}\n",
    "\n",
    "    r = s.post(URL, json={'query': query, 'variables': variables})\n",
    "    if r.status_code == 200:\n",
    "\n",
    "      # store the results\n",
    "      vector=r.json()[\"data\"][\"embedDocument\"]\n",
    "      embedding =  pd.DataFrame(vector).T\n",
    "      embedding.index = [biblio['id']]\n",
    "      df = pd.concat([df, embedding], axis=0)\n",
    "\n",
    "df"
   ]
  },
  {
   "cell_type": "markdown",
   "metadata": {},
   "source": [
    "## Find similarity scores between user supplied documents"
   ]
  },
  {
   "cell_type": "code",
   "execution_count": 17,
   "metadata": {},
   "outputs": [],
   "source": [
    "# prepare the data field\n",
    "data = []\n",
    "\n",
    "for biblio in biblios:\n",
    "    # put data in expected structure.\n",
    "    record = {\"id\": biblio['id'], \"parts\":[]}\n",
    "    record[\"parts\"] = [{\"key\": k, \"value\":v} for k,v in biblio.items() if k!='id']\n",
    "    data.append(record)\n"
   ]
  },
  {
   "cell_type": "code",
   "execution_count": 18,
   "metadata": {},
   "outputs": [
    {
     "data": {
      "text/plain": [
       "[{'id': 'ML001',\n",
       "  'parts': [{'key': 'title',\n",
       "    'value': 'Towards A Rigorous Science of Interpretable Machine Learning'},\n",
       "   {'key': 'abstract',\n",
       "    'value': 'As machine learning systems become ubiquitous, there has been a surge of interest in interpretable machine learning: systems that provide explanation for their outputs. These explanations are often used to qualitatively assess other criteria such as safety or non-discrimination. However, despite the interest in interpretability, there is very little consensus on what interpretable machine learning is and how it should be measured. In this position paper, we first define interpretability and describe when interpretability is needed (and when it is not). Next, we suggest a taxonomy for rigorous evaluation and expose open questions towards a more rigorous science of interpretable machine learning.'}]},\n",
       " {'id': 'ML002',\n",
       "  'parts': [{'key': 'title',\n",
       "    'value': 'Machine Learning Interpretability: A Science rather than a tool'},\n",
       "   {'key': 'abstract',\n",
       "    'value': 'The term \"interpretability\" is oftenly used by machine learning researchers each with their own intuitive understanding of it. There is no universal well agreed upon definition of interpretability in machine learning. As any type of science discipline is mainly driven by the set of formulated questions rather than by different tools in that discipline, e.g. astrophysics is the discipline that learns the composition of stars, not as the discipline that use the spectroscopes. Similarly, we propose that machine learning interpretability should be a discipline that answers specific questions related to interpretability. These questions can be of statistical, causal and counterfactual nature. Therefore, there is a need to look into the interpretability problem of machine learning in the context of questions that need to be addressed rather than different tools. We discuss about a hypothetical interpretability framework driven by a question based scientific approach rather than some specific machine learning model. Using a question based notion of interpretability, we can step towards understanding the science of machine learning rather than its engineering. This notion will also help us understanding any specific problem more in depth rather than relying solely on machine learning methods'}]},\n",
       " {'id': 'ML003',\n",
       "  'parts': [{'key': 'title',\n",
       "    'value': 'Opening the black box of neural networks: methods for interpreting neural network models in clinical applications'},\n",
       "   {'key': 'abstract',\n",
       "    'value': 'Artificial neural networks (ANNs) are powerful tools for data analysis and are particularly suitable for modeling relationships between variables for best prediction of an outcome. While these models can be used to answer many important research questions, their utility has been critically limited because the interpretation of the \"black box\" model is difficult. Clinical investigators usually employ ANN models to predict the clinical outcomes or to make a diagnosis; the model however is difficult to interpret for clinicians. To address this important shortcoming of neural network modeling methods, we describe several methods to help subject-matter audiences (e.g., clinicians, medical policy makers) understand neural network models. Garson\\'s algorithm describes the relative magnitude of the importance of a descriptor (predictor) in its connection with outcome variables by dissecting the model weights. The Lek\\'s profile method explores the relationship of the outcome variable and a predictor of interest, while holding other predictors at constant values (e.g., minimum, 20th quartile, maximum). While Lek\\'s profile was developed specifically for neural networks, partial dependence plot is a more generic version that visualize the relationship between an outcome and one or two predictors. Finally, the local interpretable model-agnostic explanations (LIME) method can show the predictions of any classification or regression, by approximating it locally with an interpretable model. R code for the implementations of these methods is shown by using example data fitted with a standard, feed-forward neural network model. We offer codes and step-by-step description on how to use these tools to facilitate better understanding of ANN'}]}]"
      ]
     },
     "execution_count": 18,
     "metadata": {},
     "output_type": "execute_result"
    }
   ],
   "source": [
    "data"
   ]
  },
  {
   "cell_type": "code",
   "execution_count": 19,
   "metadata": {},
   "outputs": [
    {
     "name": "stdout",
     "output_type": "stream",
     "text": [
      "{\n",
      "    \"data\": {\n",
      "        \"encodeDocumentAndSimilarityCalculation\": {\n",
      "            \"similarities\": [\n",
      "                [\n",
      "                    1,\n",
      "                    0.9697906,\n",
      "                    0.9458891\n",
      "                ],\n",
      "                [\n",
      "                    0.9697906,\n",
      "                    1,\n",
      "                    0.93912196\n",
      "                ],\n",
      "                [\n",
      "                    0.9458891,\n",
      "                    0.93912196,\n",
      "                    1\n",
      "                ]\n",
      "            ],\n",
      "            \"xs\": [\n",
      "                {\n",
      "                    \"id\": \"ML001\"\n",
      "                },\n",
      "                {\n",
      "                    \"id\": \"ML002\"\n",
      "                },\n",
      "                {\n",
      "                    \"id\": \"ML003\"\n",
      "                }\n",
      "            ],\n",
      "            \"ys\": [\n",
      "                {\n",
      "                    \"id\": \"ML001\"\n",
      "                },\n",
      "                {\n",
      "                    \"id\": \"ML002\"\n",
      "                },\n",
      "                {\n",
      "                    \"id\": \"ML003\"\n",
      "                }\n",
      "            ]\n",
      "        }\n",
      "    }\n",
      "}\n"
     ]
    }
   ],
   "source": [
    "query = \"\"\"\n",
    "query encodeDocumentAndSimilarityCalculation($data: [EncodeObject], $similarityMetric: similarityMetric, $model: String!) {\n",
    "  encodeDocumentAndSimilarityCalculation(\n",
    "    data: $data\n",
    "    similarityMetric: $similarityMetric\n",
    "    model: $model\n",
    "  ) {\n",
    "    similarities\n",
    "    xs {\n",
    "      id\n",
    "    }\n",
    "    ys {\n",
    "      id\n",
    "    }\n",
    "  }\n",
    "}\n",
    "\"\"\"\n",
    "\n",
    "variables = {\"data\": data, \"metric\": 'cosine',  \"model\": \"patspecter\"}\n",
    "\n",
    "r = s.post(URL, headers=headers,  json={'query': query, 'variables': variables})\n",
    "print(r.text)"
   ]
  },
  {
   "cell_type": "code",
   "execution_count": 20,
   "metadata": {},
   "outputs": [
    {
     "data": {
      "text/html": [
       "<div>\n",
       "<style scoped>\n",
       "    .dataframe tbody tr th:only-of-type {\n",
       "        vertical-align: middle;\n",
       "    }\n",
       "\n",
       "    .dataframe tbody tr th {\n",
       "        vertical-align: top;\n",
       "    }\n",
       "\n",
       "    .dataframe thead th {\n",
       "        text-align: right;\n",
       "    }\n",
       "</style>\n",
       "<table border=\"1\" class=\"dataframe\">\n",
       "  <thead>\n",
       "    <tr style=\"text-align: right;\">\n",
       "      <th></th>\n",
       "      <th>ML001</th>\n",
       "      <th>ML002</th>\n",
       "      <th>ML003</th>\n",
       "    </tr>\n",
       "  </thead>\n",
       "  <tbody>\n",
       "    <tr>\n",
       "      <th>ML001</th>\n",
       "      <td>1.000000</td>\n",
       "      <td>0.969791</td>\n",
       "      <td>0.945889</td>\n",
       "    </tr>\n",
       "    <tr>\n",
       "      <th>ML002</th>\n",
       "      <td>0.969791</td>\n",
       "      <td>1.000000</td>\n",
       "      <td>0.939122</td>\n",
       "    </tr>\n",
       "    <tr>\n",
       "      <th>ML003</th>\n",
       "      <td>0.945889</td>\n",
       "      <td>0.939122</td>\n",
       "      <td>1.000000</td>\n",
       "    </tr>\n",
       "  </tbody>\n",
       "</table>\n",
       "</div>"
      ],
      "text/plain": [
       "          ML001     ML002     ML003\n",
       "ML001  1.000000  0.969791  0.945889\n",
       "ML002  0.969791  1.000000  0.939122\n",
       "ML003  0.945889  0.939122  1.000000"
      ]
     },
     "metadata": {},
     "output_type": "display_data"
    }
   ],
   "source": [
    "data = r.json()['data']['encodeDocumentAndSimilarityCalculation']\n",
    "doc_ids = [d[\"id\"] for d in data[\"xs\"]]\n",
    "df = pd.DataFrame(data['similarities'], columns=doc_ids, index=doc_ids)\n",
    "display(df)"
   ]
  },
  {
   "cell_type": "markdown",
   "metadata": {},
   "source": [
    "## Find similar documents in the database compared to user uploaded document\n"
   ]
  },
  {
   "cell_type": "code",
   "execution_count": 21,
   "metadata": {},
   "outputs": [
    {
     "name": "stdout",
     "output_type": "stream",
     "text": [
      "Number of results: 50\n",
      "dict_keys(['PatspecterEmbedding', 'title', 'url'])\n"
     ]
    }
   ],
   "source": [
    "# simple version\n",
    "\n",
    "query = \"\"\"query embedDocumentAndSimilaritySearch($data: [EncodeDocumentPart], $indices: [String], $amount: Int, $model: String!) {\n",
    "  encodeDocumentAndSimilaritySearch(\n",
    "    data: $data\n",
    "    indices: $indices\n",
    "    amount: $amount\n",
    "    model: $model\n",
    "  ) {\n",
    "    id\n",
    "    score\n",
    "    index\n",
    "    document {\n",
    "      title\n",
    "      url\n",
    "      PatspecterEmbedding\n",
    "    }\n",
    "  }\n",
    "}\n",
    "\"\"\"\n",
    "variables= {\n",
    "  \"model\": \"patspecter\",\n",
    "  \"data\": [\n",
    "    {\n",
    "      \"key\": \"title\",\n",
    "      \"value\": \"Airbags\"\n",
    "    },\n",
    "    {\n",
    "      \"key\": \"abstract\",\n",
    "      \"value\": \"Airbags are one of the most important safety gears in motor vehicles such as cars and SUVs. These are cushions built into a vehicle that are intended to inflate in case of a car accident in order to protect occupants from injuries by preventing them from striking the interior of vehicle during a crash.\"\n",
    "    }\n",
    "  ],\n",
    "  \"amount\": 25,\n",
    "  \"indices\": [\n",
    "    \"patents\",\n",
    "    \"publications\"\n",
    "  ]\n",
    "}\n",
    "\n",
    "r = s.post(URL, headers=headers, json={'query': query, 'variables':variables})\n",
    "print(\"Number of results:\", len(r.json()[\"data\"][\"encodeDocumentAndSimilaritySearch\"]))\n",
    "print(r.json()[\"data\"][\"encodeDocumentAndSimilaritySearch\"][0][\"document\"].keys())"
   ]
  },
  {
   "cell_type": "code",
   "execution_count": 22,
   "metadata": {},
   "outputs": [],
   "source": [
    "# parameterized version\n",
    "\n",
    "query = \"\"\"\n",
    "query embedDocumentAndSimilaritySearch($data: [EncodeDocumentPart], $indices: [String], $amount: Int, $model: String!) {\n",
    "  encodeDocumentAndSimilaritySearch(\n",
    "    data: $data\n",
    "    indices: $indices\n",
    "    amount: $amount\n",
    "    model: $model\n",
    "  ) {\n",
    "    id\n",
    "    score\n",
    "    index\n",
    "    document {\n",
    "      title\n",
    "      url\n",
    "    }\n",
    "  }\n",
    "}\n",
    "\"\"\""
   ]
  },
  {
   "cell_type": "code",
   "execution_count": 23,
   "metadata": {},
   "outputs": [],
   "source": [
    "biblio = biblios[2]\n",
    "data = [{\"key\": k, \"value\": v} for k,v in biblio.items() if k != 'id']\n",
    "\n",
    "variables = {\n",
    "    \"model\": \"patspecter\",\n",
    "    \"amount\": 3,\n",
    "    \"data\": data,\n",
    "    \"indices\": [\n",
    "      \"patents\",\n",
    "      \"publications\"\n",
    "    ]\n",
    "}\n",
    "\n",
    "r = s.post(URL, headers=headers, json={'query': query, 'variables': variables})"
   ]
  },
  {
   "cell_type": "code",
   "execution_count": 24,
   "metadata": {},
   "outputs": [
    {
     "name": "stdout",
     "output_type": "stream",
     "text": [
      "6\n",
      "dict_keys(['title', 'url'])\n"
     ]
    }
   ],
   "source": [
    "results = r.json()[\"data\"][\"encodeDocumentAndSimilaritySearch\"]\n",
    "print(len(results))\n",
    "print(results[0][\"document\"].keys())"
   ]
  },
  {
   "cell_type": "code",
   "execution_count": 25,
   "metadata": {},
   "outputs": [
    {
     "data": {
      "text/html": [
       "<div>\n",
       "<style scoped>\n",
       "    .dataframe tbody tr th:only-of-type {\n",
       "        vertical-align: middle;\n",
       "    }\n",
       "\n",
       "    .dataframe tbody tr th {\n",
       "        vertical-align: top;\n",
       "    }\n",
       "\n",
       "    .dataframe thead th {\n",
       "        text-align: right;\n",
       "    }\n",
       "</style>\n",
       "<table border=\"1\" class=\"dataframe\">\n",
       "  <thead>\n",
       "    <tr style=\"text-align: right;\">\n",
       "      <th></th>\n",
       "      <th>id</th>\n",
       "      <th>index</th>\n",
       "      <th>score</th>\n",
       "      <th>title</th>\n",
       "      <th>url</th>\n",
       "    </tr>\n",
       "  </thead>\n",
       "  <tbody>\n",
       "    <tr>\n",
       "      <th>0</th>\n",
       "      <td>W2807036076</td>\n",
       "      <td>publications</td>\n",
       "      <td>0.998372</td>\n",
       "      <td>Opening the black box of neural networks: meth...</td>\n",
       "      <td></td>\n",
       "    </tr>\n",
       "    <tr>\n",
       "      <th>1</th>\n",
       "      <td>W2121394390</td>\n",
       "      <td>publications</td>\n",
       "      <td>0.992756</td>\n",
       "      <td>Advantages and disadvantages of using artifici...</td>\n",
       "      <td></td>\n",
       "    </tr>\n",
       "    <tr>\n",
       "      <th>2</th>\n",
       "      <td>W2885307904</td>\n",
       "      <td>publications</td>\n",
       "      <td>0.990867</td>\n",
       "      <td>&lt;b&gt;NeuralNetTools&lt;/b&gt;: Visualization and Analy...</td>\n",
       "      <td></td>\n",
       "    </tr>\n",
       "    <tr>\n",
       "      <th>3</th>\n",
       "      <td>30118004</td>\n",
       "      <td>patents</td>\n",
       "      <td>0.985010</td>\n",
       "      <td>Time-dependent outcome prediction using neural...</td>\n",
       "      <td></td>\n",
       "    </tr>\n",
       "    <tr>\n",
       "      <th>4</th>\n",
       "      <td>45807655</td>\n",
       "      <td>patents</td>\n",
       "      <td>0.984483</td>\n",
       "      <td>TIME TO EVENT DATA ANALYSIS METHOD AND SYSTEM</td>\n",
       "      <td></td>\n",
       "    </tr>\n",
       "    <tr>\n",
       "      <th>5</th>\n",
       "      <td>80855462</td>\n",
       "      <td>patents</td>\n",
       "      <td>0.984008</td>\n",
       "      <td>Attribution methodologies for neural networks ...</td>\n",
       "      <td></td>\n",
       "    </tr>\n",
       "  </tbody>\n",
       "</table>\n",
       "</div>"
      ],
      "text/plain": [
       "            id         index     score  \\\n",
       "0  W2807036076  publications  0.998372   \n",
       "1  W2121394390  publications  0.992756   \n",
       "2  W2885307904  publications  0.990867   \n",
       "3     30118004       patents  0.985010   \n",
       "4     45807655       patents  0.984483   \n",
       "5     80855462       patents  0.984008   \n",
       "\n",
       "                                               title url  \n",
       "0  Opening the black box of neural networks: meth...      \n",
       "1  Advantages and disadvantages of using artifici...      \n",
       "2  <b>NeuralNetTools</b>: Visualization and Analy...      \n",
       "3  Time-dependent outcome prediction using neural...      \n",
       "4      TIME TO EVENT DATA ANALYSIS METHOD AND SYSTEM      \n",
       "5  Attribution methodologies for neural networks ...      "
      ]
     },
     "metadata": {},
     "output_type": "display_data"
    }
   ],
   "source": [
    "# prettify output\n",
    "df = pd.DataFrame(results)\n",
    "df = df.join(pd.json_normalize(df['document']))\n",
    "df = df.drop(columns=\"document\")\n",
    "display(df)"
   ]
  }
 ],
 "metadata": {
  "kernelspec": {
   "display_name": "Python 3 (ipykernel)",
   "language": "python",
   "name": "python3"
  },
  "language_info": {
   "codemirror_mode": {
    "name": "ipython",
    "version": 3
   },
   "file_extension": ".py",
   "mimetype": "text/x-python",
   "name": "python",
   "nbconvert_exporter": "python",
   "pygments_lexer": "ipython3",
   "version": "3.11.6"
  }
 },
 "nbformat": 4,
 "nbformat_minor": 4
}
