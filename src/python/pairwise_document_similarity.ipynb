{
 "cells": [
  {
   "cell_type": "markdown",
   "id": "132e65e5",
   "metadata": {},
   "source": [
    "# Pairwise Document Similarity API\n",
    "This API computes the similarity between specific pairs of documents (by ID and index), allowing for targeted comparison between selected documents."
   ]
  },
  {
   "cell_type": "code",
   "execution_count": 1,
   "id": "8a939a39",
   "metadata": {},
   "outputs": [],
   "source": [
    "from dotenv import dotenv_values\n",
    "import pandas as pd\n",
    "import requests\n",
    "\n",
    "\n",
    "# Load environment variables from .env file\n",
    "conf = dotenv_values()\n",
    "API_KEY = conf[\"API_KEY\"]"
   ]
  },
  {
   "cell_type": "code",
   "execution_count": 2,
   "id": "2a016a3c",
   "metadata": {},
   "outputs": [],
   "source": [
    "# API Settings\n",
    "URL = 'https://api.logic-mill.net/api/v1/graphql/'\n",
    "headers = {\n",
    "    'content-type': 'application/json',\n",
    "    'Authorization': 'Bearer ' + API_KEY,\n",
    "}\n",
    "\n",
    "# Build the GraphQL query\n",
    "query = \"\"\"query retrieveDocumentAndSimilarityCalculation($data: [RetrievalSimilarityObject], $metric: similarityMetric, $model: String!) { retrieveDocumentAndSimilarityCalculation(data: $data similarityMetric: $metric model: $model) { score sourceId sourceIndex targetId targetIndex } }\"\"\"\n",
    "\n",
    "# Input for the query\n",
    "documents = [\n",
    "    {\"sourceIndex\": \"patents\", \"sourceId\": \"80544619\", \"targetIndex\": \"patents\", \"targetId\": \"43862061\"},\n",
    "    {\"sourceIndex\": \"patents\", \"sourceId\": \"29559527\", \"targetIndex\": \"publications\", \"targetId\": \"W2531412717\"},\n",
    "    {\"sourceIndex\": \"patents\", \"sourceId\": \"43820202\", \"targetIndex\": \"patents\", \"targetId\": \"61199404\"},\n",
    "    {\"sourceIndex\": \"patents\", \"sourceId\": \"61199404\", \"targetIndex\": \"patents\", \"targetId\": \"80544619\"},\n",
    "]\n",
    "similarity_metric = \"cosine\" # Options: \"cosine\", \"l1\" or \"l2\"\n",
    "\n",
    "# Build the variables for the query\n",
    "variables = {\n",
    "    \"data\": documents,\n",
    "    \"metric\": similarity_metric,\n",
    "    \"model\": \"patspecter\"\n",
    "}"
   ]
  },
  {
   "cell_type": "code",
   "execution_count": 3,
   "id": "705fe878",
   "metadata": {},
   "outputs": [],
   "source": [
    "# Send a POST request to the API\n",
    "response = requests.post(URL, headers=headers, json={'query': query , 'variables': variables})"
   ]
  },
  {
   "cell_type": "code",
   "execution_count": 4,
   "id": "e3df0f79",
   "metadata": {},
   "outputs": [
    {
     "data": {
      "application/vnd.microsoft.datawrangler.viewer.v0+json": {
       "columns": [
        {
         "name": "index",
         "rawType": "int64",
         "type": "integer"
        },
        {
         "name": "score",
         "rawType": "float64",
         "type": "float"
        },
        {
         "name": "sourceId",
         "rawType": "object",
         "type": "string"
        },
        {
         "name": "sourceIndex",
         "rawType": "object",
         "type": "string"
        },
        {
         "name": "targetId",
         "rawType": "object",
         "type": "string"
        },
        {
         "name": "targetIndex",
         "rawType": "object",
         "type": "string"
        }
       ],
       "ref": "8360ecdd-e030-4b65-9403-675adb78cb80",
       "rows": [
        [
         "0",
         "0.8713205",
         "80544619",
         "patents",
         "43862061",
         "patents"
        ],
        [
         "1",
         "0.8490204",
         "29559527",
         "patents",
         "W2531412717",
         "publications"
        ],
        [
         "2",
         "0.91427255",
         "43820202",
         "patents",
         "61199404",
         "patents"
        ],
        [
         "3",
         "0.921421",
         "61199404",
         "patents",
         "80544619",
         "patents"
        ]
       ],
       "shape": {
        "columns": 5,
        "rows": 4
       }
      },
      "text/html": [
       "<div>\n",
       "<style scoped>\n",
       "    .dataframe tbody tr th:only-of-type {\n",
       "        vertical-align: middle;\n",
       "    }\n",
       "\n",
       "    .dataframe tbody tr th {\n",
       "        vertical-align: top;\n",
       "    }\n",
       "\n",
       "    .dataframe thead th {\n",
       "        text-align: right;\n",
       "    }\n",
       "</style>\n",
       "<table border=\"1\" class=\"dataframe\">\n",
       "  <thead>\n",
       "    <tr style=\"text-align: right;\">\n",
       "      <th></th>\n",
       "      <th>score</th>\n",
       "      <th>sourceId</th>\n",
       "      <th>sourceIndex</th>\n",
       "      <th>targetId</th>\n",
       "      <th>targetIndex</th>\n",
       "    </tr>\n",
       "  </thead>\n",
       "  <tbody>\n",
       "    <tr>\n",
       "      <th>0</th>\n",
       "      <td>0.871321</td>\n",
       "      <td>80544619</td>\n",
       "      <td>patents</td>\n",
       "      <td>43862061</td>\n",
       "      <td>patents</td>\n",
       "    </tr>\n",
       "    <tr>\n",
       "      <th>1</th>\n",
       "      <td>0.849020</td>\n",
       "      <td>29559527</td>\n",
       "      <td>patents</td>\n",
       "      <td>W2531412717</td>\n",
       "      <td>publications</td>\n",
       "    </tr>\n",
       "    <tr>\n",
       "      <th>2</th>\n",
       "      <td>0.914273</td>\n",
       "      <td>43820202</td>\n",
       "      <td>patents</td>\n",
       "      <td>61199404</td>\n",
       "      <td>patents</td>\n",
       "    </tr>\n",
       "    <tr>\n",
       "      <th>3</th>\n",
       "      <td>0.921421</td>\n",
       "      <td>61199404</td>\n",
       "      <td>patents</td>\n",
       "      <td>80544619</td>\n",
       "      <td>patents</td>\n",
       "    </tr>\n",
       "  </tbody>\n",
       "</table>\n",
       "</div>"
      ],
      "text/plain": [
       "      score  sourceId sourceIndex     targetId   targetIndex\n",
       "0  0.871321  80544619     patents     43862061       patents\n",
       "1  0.849020  29559527     patents  W2531412717  publications\n",
       "2  0.914273  43820202     patents     61199404       patents\n",
       "3  0.921421  61199404     patents     80544619       patents"
      ]
     },
     "execution_count": 4,
     "metadata": {},
     "output_type": "execute_result"
    }
   ],
   "source": [
    "# Handle response\n",
    "if not response.ok:\n",
    "    raise Exception(f\"Error: {response.status_code} - {response.text}\")\n",
    "\n",
    "json_response = response.json()\n",
    "json_response = json_response[\"data\"][\"retrieveDocumentAndSimilarityCalculation\"]\n",
    "df = pd.DataFrame(json_response)\n",
    "df"
   ]
  },
  {
   "cell_type": "markdown",
   "id": "3cc88ad7",
   "metadata": {},
   "source": [
    "## Network Plot\n",
    "\n",
    "This plot visualizes the pairwise document similarities as a network graph. Each node represents a document (by its ID), and each edge connects two documents, weighted by their similarity score. The graph is undirected, so each edge indicates a bidirectional similarity relationship between the connected documents."
   ]
  },
  {
   "cell_type": "code",
   "execution_count": 5,
   "id": "d546d53e",
   "metadata": {},
   "outputs": [
    {
     "data": {
      "application/vnd.microsoft.datawrangler.viewer.v0+json": {
       "columns": [
        {
         "name": "index",
         "rawType": "int64",
         "type": "integer"
        },
        {
         "name": "score",
         "rawType": "float64",
         "type": "float"
        },
        {
         "name": "sourceId",
         "rawType": "object",
         "type": "string"
        },
        {
         "name": "sourceIndex",
         "rawType": "object",
         "type": "string"
        },
        {
         "name": "targetId",
         "rawType": "object",
         "type": "string"
        },
        {
         "name": "targetIndex",
         "rawType": "object",
         "type": "string"
        }
       ],
       "ref": "cf1a9163-f2d7-4526-8385-38a1b34c3410",
       "rows": [
        [
         "0",
         "0.8713205",
         "80544619",
         "patents",
         "43862061",
         "patents"
        ],
        [
         "1",
         "0.8490204",
         "29559527",
         "patents",
         "W2531412717",
         "publications"
        ],
        [
         "2",
         "0.91427255",
         "43820202",
         "patents",
         "61199404",
         "patents"
        ],
        [
         "3",
         "0.921421",
         "61199404",
         "patents",
         "80544619",
         "patents"
        ],
        [
         "4",
         "0.95961833",
         "W2167224711",
         "publications",
         "43862061",
         "patents"
        ],
        [
         "5",
         "0.86966854",
         "W2531412717",
         "publications",
         "80544619",
         "patents"
        ],
        [
         "6",
         "0.95369315",
         "W2364777665",
         "publications",
         "43862061",
         "patents"
        ],
        [
         "7",
         "0.9611042",
         "W2079788930",
         "publications",
         "43862061",
         "patents"
        ],
        [
         "8",
         "0.89609873",
         "W4392883972",
         "publications",
         "43820202",
         "patents"
        ],
        [
         "9",
         "0.83835846",
         "43862061",
         "patents",
         "29559527",
         "patents"
        ],
        [
         "10",
         "0.8988683",
         "71425071",
         "patents",
         "43820202",
         "patents"
        ],
        [
         "11",
         "0.88550156",
         "82025502",
         "patents",
         "43820202",
         "patents"
        ],
        [
         "12",
         "0.9054008",
         "73969714",
         "patents",
         "43820202",
         "patents"
        ],
        [
         "13",
         "0.88305175",
         "57146653",
         "patents",
         "43820202",
         "patents"
        ]
       ],
       "shape": {
        "columns": 5,
        "rows": 14
       }
      },
      "text/html": [
       "<div>\n",
       "<style scoped>\n",
       "    .dataframe tbody tr th:only-of-type {\n",
       "        vertical-align: middle;\n",
       "    }\n",
       "\n",
       "    .dataframe tbody tr th {\n",
       "        vertical-align: top;\n",
       "    }\n",
       "\n",
       "    .dataframe thead th {\n",
       "        text-align: right;\n",
       "    }\n",
       "</style>\n",
       "<table border=\"1\" class=\"dataframe\">\n",
       "  <thead>\n",
       "    <tr style=\"text-align: right;\">\n",
       "      <th></th>\n",
       "      <th>score</th>\n",
       "      <th>sourceId</th>\n",
       "      <th>sourceIndex</th>\n",
       "      <th>targetId</th>\n",
       "      <th>targetIndex</th>\n",
       "    </tr>\n",
       "  </thead>\n",
       "  <tbody>\n",
       "    <tr>\n",
       "      <th>0</th>\n",
       "      <td>0.871321</td>\n",
       "      <td>80544619</td>\n",
       "      <td>patents</td>\n",
       "      <td>43862061</td>\n",
       "      <td>patents</td>\n",
       "    </tr>\n",
       "    <tr>\n",
       "      <th>1</th>\n",
       "      <td>0.849020</td>\n",
       "      <td>29559527</td>\n",
       "      <td>patents</td>\n",
       "      <td>W2531412717</td>\n",
       "      <td>publications</td>\n",
       "    </tr>\n",
       "    <tr>\n",
       "      <th>2</th>\n",
       "      <td>0.914273</td>\n",
       "      <td>43820202</td>\n",
       "      <td>patents</td>\n",
       "      <td>61199404</td>\n",
       "      <td>patents</td>\n",
       "    </tr>\n",
       "    <tr>\n",
       "      <th>3</th>\n",
       "      <td>0.921421</td>\n",
       "      <td>61199404</td>\n",
       "      <td>patents</td>\n",
       "      <td>80544619</td>\n",
       "      <td>patents</td>\n",
       "    </tr>\n",
       "    <tr>\n",
       "      <th>4</th>\n",
       "      <td>0.959618</td>\n",
       "      <td>W2167224711</td>\n",
       "      <td>publications</td>\n",
       "      <td>43862061</td>\n",
       "      <td>patents</td>\n",
       "    </tr>\n",
       "    <tr>\n",
       "      <th>5</th>\n",
       "      <td>0.869669</td>\n",
       "      <td>W2531412717</td>\n",
       "      <td>publications</td>\n",
       "      <td>80544619</td>\n",
       "      <td>patents</td>\n",
       "    </tr>\n",
       "    <tr>\n",
       "      <th>6</th>\n",
       "      <td>0.953693</td>\n",
       "      <td>W2364777665</td>\n",
       "      <td>publications</td>\n",
       "      <td>43862061</td>\n",
       "      <td>patents</td>\n",
       "    </tr>\n",
       "    <tr>\n",
       "      <th>7</th>\n",
       "      <td>0.961104</td>\n",
       "      <td>W2079788930</td>\n",
       "      <td>publications</td>\n",
       "      <td>43862061</td>\n",
       "      <td>patents</td>\n",
       "    </tr>\n",
       "    <tr>\n",
       "      <th>8</th>\n",
       "      <td>0.896099</td>\n",
       "      <td>W4392883972</td>\n",
       "      <td>publications</td>\n",
       "      <td>43820202</td>\n",
       "      <td>patents</td>\n",
       "    </tr>\n",
       "    <tr>\n",
       "      <th>9</th>\n",
       "      <td>0.838358</td>\n",
       "      <td>43862061</td>\n",
       "      <td>patents</td>\n",
       "      <td>29559527</td>\n",
       "      <td>patents</td>\n",
       "    </tr>\n",
       "    <tr>\n",
       "      <th>10</th>\n",
       "      <td>0.898868</td>\n",
       "      <td>71425071</td>\n",
       "      <td>patents</td>\n",
       "      <td>43820202</td>\n",
       "      <td>patents</td>\n",
       "    </tr>\n",
       "    <tr>\n",
       "      <th>11</th>\n",
       "      <td>0.885502</td>\n",
       "      <td>82025502</td>\n",
       "      <td>patents</td>\n",
       "      <td>43820202</td>\n",
       "      <td>patents</td>\n",
       "    </tr>\n",
       "    <tr>\n",
       "      <th>12</th>\n",
       "      <td>0.905401</td>\n",
       "      <td>73969714</td>\n",
       "      <td>patents</td>\n",
       "      <td>43820202</td>\n",
       "      <td>patents</td>\n",
       "    </tr>\n",
       "    <tr>\n",
       "      <th>13</th>\n",
       "      <td>0.883052</td>\n",
       "      <td>57146653</td>\n",
       "      <td>patents</td>\n",
       "      <td>43820202</td>\n",
       "      <td>patents</td>\n",
       "    </tr>\n",
       "  </tbody>\n",
       "</table>\n",
       "</div>"
      ],
      "text/plain": [
       "       score     sourceId   sourceIndex     targetId   targetIndex\n",
       "0   0.871321     80544619       patents     43862061       patents\n",
       "1   0.849020     29559527       patents  W2531412717  publications\n",
       "2   0.914273     43820202       patents     61199404       patents\n",
       "3   0.921421     61199404       patents     80544619       patents\n",
       "4   0.959618  W2167224711  publications     43862061       patents\n",
       "5   0.869669  W2531412717  publications     80544619       patents\n",
       "6   0.953693  W2364777665  publications     43862061       patents\n",
       "7   0.961104  W2079788930  publications     43862061       patents\n",
       "8   0.896099  W4392883972  publications     43820202       patents\n",
       "9   0.838358     43862061       patents     29559527       patents\n",
       "10  0.898868     71425071       patents     43820202       patents\n",
       "11  0.885502     82025502       patents     43820202       patents\n",
       "12  0.905401     73969714       patents     43820202       patents\n",
       "13  0.883052     57146653       patents     43820202       patents"
      ]
     },
     "execution_count": 5,
     "metadata": {},
     "output_type": "execute_result"
    }
   ],
   "source": [
    "# Add more documents to the list\n",
    "documents.extend([\n",
    "    {\"sourceIndex\": \"publications\", \"sourceId\": \"W2167224711\", \"targetIndex\": \"patents\", \"targetId\": \"43862061\"},\n",
    "    {\"sourceIndex\": \"publications\", \"sourceId\": \"W2531412717\", \"targetIndex\": \"patents\", \"targetId\": \"80544619\"},\n",
    "    {\"sourceIndex\": \"publications\", \"sourceId\": \"W2364777665\", \"targetIndex\": \"patents\", \"targetId\": \"43862061\"},\n",
    "    {\"sourceIndex\": \"publications\", \"sourceId\": \"W2079788930\", \"targetIndex\": \"patents\", \"targetId\": \"43862061\"},\n",
    "    {\"sourceIndex\": \"publications\", \"sourceId\": \"W4392883972\", \"targetIndex\": \"patents\", \"targetId\": \"43820202\"},\n",
    "    {\"sourceIndex\": \"patents\", \"sourceId\": \"43862061\", \"targetIndex\": \"patents\", \"targetId\": \"29559527\"},\n",
    "    {\"sourceIndex\": \"patents\", \"sourceId\": \"71425071\", \"targetIndex\": \"patents\", \"targetId\": \"43820202\"},\n",
    "    {\"sourceIndex\": \"patents\", \"sourceId\": \"82025502\", \"targetIndex\": \"patents\", \"targetId\": \"43820202\"},\n",
    "    {\"sourceIndex\": \"patents\", \"sourceId\": \"73969714\", \"targetIndex\": \"patents\", \"targetId\": \"43820202\"},\n",
    "    {\"sourceIndex\": \"patents\", \"sourceId\": \"57146653\", \"targetIndex\": \"patents\", \"targetId\": \"43820202\"},\n",
    "])\n",
    "\n",
    "# Build the variables for the query\n",
    "variables = {\n",
    "    \"data\": documents,\n",
    "    \"metric\": similarity_metric,\n",
    "    \"model\": \"patspecter\"\n",
    "}\n",
    "\n",
    "# Send a POST request to the API\n",
    "response = requests.post(URL, headers=headers, json={'query': query , 'variables': variables})\n",
    "\n",
    "# Handle response\n",
    "if not response.ok:\n",
    "    raise Exception(f\"Error: {response.status_code} - {response.text}\")\n",
    "\n",
    "json_response = response.json()\n",
    "documents = json_response[\"data\"][\"retrieveDocumentAndSimilarityCalculation\"]\n",
    "df = pd.DataFrame(documents)\n",
    "df"
   ]
  },
  {
   "cell_type": "code",
   "execution_count": 6,
   "id": "b53ae7af",
   "metadata": {},
   "outputs": [
    {
     "data": {
      "image/png": "[encoded data removed]",
      "text/plain": [
       "<Figure size 800x600 with 1 Axes>"
      ]
     },
     "metadata": {},
     "output_type": "display_data"
    }
   ],
   "source": [
    "import networkx as nx\n",
    "import matplotlib.pyplot as plt\n",
    "\n",
    "# Create an undirected graph\n",
    "G = nx.Graph()\n",
    "\n",
    "# Add edges with weights from the DataFrame\n",
    "for _, row in df.iterrows():\n",
    "    G.add_edge(row['sourceId'], row['targetId'], weight=row['score'])\n",
    "\n",
    "# Draw the graph\n",
    "pos = nx.spring_layout(G, seed=40, k=1)\n",
    "edge_weights = nx.get_edge_attributes(G, 'weight')\n",
    "\n",
    "plt.figure(figsize=(8, 6))\n",
    "nx.draw(\n",
    "    G, pos, with_labels=True, node_color='lightblue', node_size=500,\n",
    "    width=[edge_weights.get(edge, 1) for edge in G.edges()],\n",
    "    font_size=8 \n",
    ")\n",
    "nx.draw_networkx_edge_labels(G, pos, edge_labels={k: f\"{v:.2f}\" for k, v in edge_weights.items()})\n",
    "plt.title(\"Pairwise Document Similarity Graph (Undirected)\")\n",
    "plt.show()"
   ]
  }
 ],
 "metadata": {
  "kernelspec": {
   "display_name": "logic-mill",
   "language": "python",
   "name": "python3"
  },
  "language_info": {
   "codemirror_mode": {
    "name": "ipython",
    "version": 3
   },
   "file_extension": ".py",
   "mimetype": "text/x-python",
   "name": "python",
   "nbconvert_exporter": "python",
   "pygments_lexer": "ipython3",
   "version": "3.12.5"
  }
 },
 "nbformat": 4,
 "nbformat_minor": 5
}
